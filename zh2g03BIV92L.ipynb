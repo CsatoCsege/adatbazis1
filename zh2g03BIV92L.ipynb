{
    "metadata": {
        "kernelspec": {
            "name": "SQL",
            "display_name": "SQL",
            "language": "sql"
        },
        "language_info": {
            "name": "sql",
            "version": ""
        }
    },
    "nbformat_minor": 2,
    "nbformat": 4,
    "cells": [
        {
            "cell_type": "code",
            "source": [
                "--1\r\n",
                "SELECT SZOBA_ID,SZOBA_SZAMA,\r\n",
                "DATEDIFF(DAY, METTOL, MEDDIG) AS 'NAPOK SZÁMA',\r\n",
                "LEAD(DATEDIFF(DAY, METTOL, MEDDIG),1,0)\r\n",
                "OVER(\r\n",
                "    ORDER BY SZOBA_ID\r\n",
                ") AS 'Előző'\r\n",
                "FROM Szoba sz JOIN Foglalas f On sz.SZOBA_ID = f.SZOBA_FK"
            ],
            "metadata": {
                "azdata_cell_guid": "57395d53-00ca-4c5f-8daf-31e2f76b1363",
                "language": "sql"
            },
            "outputs": [],
            "execution_count": null
        },
        {
            "cell_type": "code",
            "source": [
                "--2\r\n",
                "SELECT SZALLAS_ID,\r\n",
                "SZALLAS_NEV,\r\n",
                "CSILLAGOK_SZAMA,\r\n",
                "AVG(CSILLAGOK_SZAMA)\r\n",
                "OVER(\r\n",
                "    PARTITION BY TIPUS\r\n",
                ") AS 'Átlagcsillag'\r\n",
                "FROM Szallashely"
            ],
            "metadata": {
                "azdata_cell_guid": "8618e75a-8b32-4d1c-8f9e-e573f1768511",
                "language": "sql"
            },
            "outputs": [],
            "execution_count": null
        }
    ]
}