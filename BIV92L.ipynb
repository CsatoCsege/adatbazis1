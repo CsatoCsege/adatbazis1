{
    "metadata": {
        "kernelspec": {
            "name": "SQL",
            "display_name": "SQL",
            "language": "sql"
        },
        "language_info": {
            "name": "sql",
            "version": ""
        }
    },
    "nbformat_minor": 2,
    "nbformat": 4,
    "cells": [
        {
            "cell_type": "code",
            "source": [
                "--- 1\r\n",
                "SELECT Szallashely.TIPUS AS 'Szallashely tipusa', ROUND(AVG(Szallashely.CSILLAGOK_SZAMA),0) AS 'Atlag csillag' \r\n",
                "FROM Szallashely\r\n",
                "WHERE Szallashely.TIPUS <> 'panzió'\r\n",
                "GROUP BY Szallashely.TIPUS\r\n",
                "HAVING AVG(Szallashely.CSILLAGOK_SZAMA) >= 3 "
            ],
            "metadata": {
                "azdata_cell_guid": "d0be114a-23c5-48ac-ae6e-8a68a4cf1863",
                "language": "sql"
            },
            "outputs": [],
            "execution_count": null
        },
        {
            "cell_type": "code",
            "source": [
                "--- 2\r\n",
                "SELECT szallashely.SZALLAS_NEV,IIF(szallashely.TIPUS = 'panzió','Igen','Nem') AS 'panzio-e',Szoba.SZALLAS_FK,Szoba.SZOBA_SZAMA,Szoba.FEROHELY,Szoba.POTAGY,Szoba.KLIMAS\r\n",
                "FROM Szoba JOIN Szallashely ON szoba.SZALLAS_FK = szallashely.SZALLAS_ID\r\n",
                "WHERE szallashely.ROGZITETTE IS NOT NULL"
            ],
            "metadata": {
                "language": "sql",
                "azdata_cell_guid": "124a314b-eb60-4903-bd9c-3e7af08209e7"
            },
            "outputs": [
                {
                    "output_type": "display_data",
                    "data": {
                        "text/html": "(294 rows affected)"
                    },
                    "metadata": {}
                },
                {
                    "output_type": "display_data",
                    "data": {
                        "text/html": "Total execution time: 00:00:00.044"
                    },
                    "metadata": {}
                },
                {
                    "output_type": "execute_result",
                    "metadata": {},
                    "execution_count": 17,
                    "data": {
                        "application/vnd.dataresource+json": {
                            "schema": {
                                "fields": [
                                    {
                                        "name": "SZALLAS_NEV"
                                    },
                                    {
                                        "name": "panzio-e"
                                    },
                                    {
                                        "name": "SZALLAS_FK"
                                    },
                                    {
                                        "name": "SZOBA_SZAMA"
                                    },
                                    {
                                        "name": "FEROHELY"
                                    },
                                    {
                                        "name": "POTAGY"
                                    },
                                    {
                                        "name": "KLIMAS"
                                    }
                                ]
                            },
                            "data": [
                                {
                                    "SZALLAS_NEV": "Sába-Ház",
                                    "panzio-e": "Nem",
                                    "SZALLAS_FK": "1",
                                    "SZOBA_SZAMA": "1",
                                    "FEROHELY": "3",
                                    "POTAGY": "0",
                                    "KLIMAS": "n"
                                },
                                {
                                    "SZALLAS_NEV": "Sába-Ház",
                                    "panzio-e": "Nem",
                                    "SZALLAS_FK": "1",
                                    "SZOBA_SZAMA": "2",
                                    "FEROHELY": "3",
                                    "POTAGY": "1",
                                    "KLIMAS": "i"
                                },
                                {
                                    "SZALLAS_NEV": "Sába-Ház",
                                    "panzio-e": "Nem",
                                    "SZALLAS_FK": "1",
                                    "SZOBA_SZAMA": "3",
                                    "FEROHELY": "3",
                                    "POTAGY": "1",
                                    "KLIMAS": "i"
                                },
                                {
                                    "SZALLAS_NEV": "Sába-Ház",
                                    "panzio-e": "Nem",
                                    "SZALLAS_FK": "1",
                                    "SZOBA_SZAMA": "4",
                                    "FEROHELY": "2",
                                    "POTAGY": "1",
                                    "KLIMAS": "i"
                                },
                                {
                                    "SZALLAS_NEV": "Sába-Ház",
                                    "panzio-e": "Nem",
                                    "SZALLAS_FK": "1",
                                    "SZOBA_SZAMA": "5",
                                    "FEROHELY": "2",
                                    "POTAGY": "0",
                                    "KLIMAS": "i"
                                },
                                {
                                    "SZALLAS_NEV": "Sába-Ház",
                                    "panzio-e": "Nem",
                                    "SZALLAS_FK": "1",
                                    "SZOBA_SZAMA": "6",
                                    "FEROHELY": "3",
                                    "POTAGY": "0",
                                    "KLIMAS": "i"
                                },
                                {
                                    "SZALLAS_NEV": "Sába-Ház",
                                    "panzio-e": "Nem",
                                    "SZALLAS_FK": "1",
                                    "SZOBA_SZAMA": "7",
                                    "FEROHELY": "2",
                                    "POTAGY": "0",
                                    "KLIMAS": "i"
                                },
                                {
                                    "SZALLAS_NEV": "Sába-Ház",
                                    "panzio-e": "Nem",
                                    "SZALLAS_FK": "1",
                                    "SZOBA_SZAMA": "8",
                                    "FEROHELY": "3",
                                    "POTAGY": "0",
                                    "KLIMAS": "n"
                                },
                                {
                                    "SZALLAS_NEV": "Sába-Ház",
                                    "panzio-e": "Nem",
                                    "SZALLAS_FK": "1",
                                    "SZOBA_SZAMA": "9",
                                    "FEROHELY": "3",
                                    "POTAGY": "1",
                                    "KLIMAS": "i"
                                },
                                {
                                    "SZALLAS_NEV": "Sába-Ház",
                                    "panzio-e": "Nem",
                                    "SZALLAS_FK": "1",
                                    "SZOBA_SZAMA": "10",
                                    "FEROHELY": "3",
                                    "POTAGY": "0",
                                    "KLIMAS": "i"
                                },
                                {
                                    "SZALLAS_NEV": "Sába-Ház",
                                    "panzio-e": "Nem",
                                    "SZALLAS_FK": "1",
                                    "SZOBA_SZAMA": "11",
                                    "FEROHELY": "2",
                                    "POTAGY": "1",
                                    "KLIMAS": "i"
                                },
                                {
                                    "SZALLAS_NEV": "Sába-Ház",
                                    "panzio-e": "Nem",
                                    "SZALLAS_FK": "1",
                                    "SZOBA_SZAMA": "12",
                                    "FEROHELY": "2",
                                    "POTAGY": "1",
                                    "KLIMAS": "i"
                                },
                                {
                                    "SZALLAS_NEV": "Családi Ház",
                                    "panzio-e": "Nem",
                                    "SZALLAS_FK": "2",
                                    "SZOBA_SZAMA": "1",
                                    "FEROHELY": "3",
                                    "POTAGY": "0",
                                    "KLIMAS": "i"
                                },
                                {
                                    "SZALLAS_NEV": "Családi Ház",
                                    "panzio-e": "Nem",
                                    "SZALLAS_FK": "2",
                                    "SZOBA_SZAMA": "2",
                                    "FEROHELY": "3",
                                    "POTAGY": "2",
                                    "KLIMAS": "i"
                                },
                                {
                                    "SZALLAS_NEV": "Családi Ház",
                                    "panzio-e": "Nem",
                                    "SZALLAS_FK": "2",
                                    "SZOBA_SZAMA": "3",
                                    "FEROHELY": "2",
                                    "POTAGY": "1",
                                    "KLIMAS": "i"
                                },
                                {
                                    "SZALLAS_NEV": "Családi Ház",
                                    "panzio-e": "Nem",
                                    "SZALLAS_FK": "2",
                                    "SZOBA_SZAMA": "4",
                                    "FEROHELY": "3",
                                    "POTAGY": "1",
                                    "KLIMAS": "i"
                                },
                                {
                                    "SZALLAS_NEV": "Fortuna Apartman",
                                    "panzio-e": "Nem",
                                    "SZALLAS_FK": "3",
                                    "SZOBA_SZAMA": "1",
                                    "FEROHELY": "3",
                                    "POTAGY": "1",
                                    "KLIMAS": "i"
                                },
                                {
                                    "SZALLAS_NEV": "Fortuna Apartman",
                                    "panzio-e": "Nem",
                                    "SZALLAS_FK": "3",
                                    "SZOBA_SZAMA": "2",
                                    "FEROHELY": "3",
                                    "POTAGY": "2",
                                    "KLIMAS": "n"
                                },
                                {
                                    "SZALLAS_NEV": "Fortuna Apartman",
                                    "panzio-e": "Nem",
                                    "SZALLAS_FK": "3",
                                    "SZOBA_SZAMA": "3",
                                    "FEROHELY": "2",
                                    "POTAGY": "1",
                                    "KLIMAS": "i"
                                },
                                {
                                    "SZALLAS_NEV": "Fortuna Apartman",
                                    "panzio-e": "Nem",
                                    "SZALLAS_FK": "3",
                                    "SZOBA_SZAMA": "4",
                                    "FEROHELY": "3",
                                    "POTAGY": "0",
                                    "KLIMAS": "i"
                                },
                                {
                                    "SZALLAS_NEV": "Fortuna Apartman",
                                    "panzio-e": "Nem",
                                    "SZALLAS_FK": "3",
                                    "SZOBA_SZAMA": "5",
                                    "FEROHELY": "2",
                                    "POTAGY": "1",
                                    "KLIMAS": "i"
                                },
                                {
                                    "SZALLAS_NEV": "Fortuna Apartman",
                                    "panzio-e": "Nem",
                                    "SZALLAS_FK": "3",
                                    "SZOBA_SZAMA": "6",
                                    "FEROHELY": "3",
                                    "POTAGY": "2",
                                    "KLIMAS": "n"
                                },
                                {
                                    "SZALLAS_NEV": "Fortuna Apartman",
                                    "panzio-e": "Nem",
                                    "SZALLAS_FK": "3",
                                    "SZOBA_SZAMA": "7",
                                    "FEROHELY": "2",
                                    "POTAGY": "0",
                                    "KLIMAS": "n"
                                },
                                {
                                    "SZALLAS_NEV": "Fortuna Apartman",
                                    "panzio-e": "Nem",
                                    "SZALLAS_FK": "3",
                                    "SZOBA_SZAMA": "8",
                                    "FEROHELY": "4",
                                    "POTAGY": "1",
                                    "KLIMAS": "i"
                                },
                                {
                                    "SZALLAS_NEV": "Fortuna panzió",
                                    "panzio-e": "Igen",
                                    "SZALLAS_FK": "4",
                                    "SZOBA_SZAMA": "1",
                                    "FEROHELY": "3",
                                    "POTAGY": "1",
                                    "KLIMAS": "n"
                                },
                                {
                                    "SZALLAS_NEV": "Fortuna panzió",
                                    "panzio-e": "Igen",
                                    "SZALLAS_FK": "4",
                                    "SZOBA_SZAMA": "2",
                                    "FEROHELY": "2",
                                    "POTAGY": "1",
                                    "KLIMAS": "i"
                                },
                                {
                                    "SZALLAS_NEV": "Fortuna panzió",
                                    "panzio-e": "Igen",
                                    "SZALLAS_FK": "4",
                                    "SZOBA_SZAMA": "3",
                                    "FEROHELY": "3",
                                    "POTAGY": "1",
                                    "KLIMAS": "n"
                                },
                                {
                                    "SZALLAS_NEV": "Fortuna panzió",
                                    "panzio-e": "Igen",
                                    "SZALLAS_FK": "4",
                                    "SZOBA_SZAMA": "4",
                                    "FEROHELY": "2",
                                    "POTAGY": "1",
                                    "KLIMAS": "i"
                                },
                                {
                                    "SZALLAS_NEV": "Fortuna panzió",
                                    "panzio-e": "Igen",
                                    "SZALLAS_FK": "4",
                                    "SZOBA_SZAMA": "5",
                                    "FEROHELY": "2",
                                    "POTAGY": "0",
                                    "KLIMAS": "n"
                                },
                                {
                                    "SZALLAS_NEV": "Fortuna panzió",
                                    "panzio-e": "Igen",
                                    "SZALLAS_FK": "4",
                                    "SZOBA_SZAMA": "6",
                                    "FEROHELY": "3",
                                    "POTAGY": "1",
                                    "KLIMAS": "i"
                                },
                                {
                                    "SZALLAS_NEV": "Fortuna panzió",
                                    "panzio-e": "Igen",
                                    "SZALLAS_FK": "4",
                                    "SZOBA_SZAMA": "7",
                                    "FEROHELY": "3",
                                    "POTAGY": "1",
                                    "KLIMAS": "i"
                                },
                                {
                                    "SZALLAS_NEV": "Fortuna panzió",
                                    "panzio-e": "Igen",
                                    "SZALLAS_FK": "4",
                                    "SZOBA_SZAMA": "8",
                                    "FEROHELY": "2",
                                    "POTAGY": "0",
                                    "KLIMAS": "i"
                                },
                                {
                                    "SZALLAS_NEV": "Fortuna panzió",
                                    "panzio-e": "Igen",
                                    "SZALLAS_FK": "4",
                                    "SZOBA_SZAMA": "9",
                                    "FEROHELY": "2",
                                    "POTAGY": "2",
                                    "KLIMAS": "i"
                                },
                                {
                                    "SZALLAS_NEV": "Fortuna panzió",
                                    "panzio-e": "Igen",
                                    "SZALLAS_FK": "4",
                                    "SZOBA_SZAMA": "10",
                                    "FEROHELY": "3",
                                    "POTAGY": "1",
                                    "KLIMAS": "i"
                                },
                                {
                                    "SZALLAS_NEV": "Fortuna panzió",
                                    "panzio-e": "Igen",
                                    "SZALLAS_FK": "4",
                                    "SZOBA_SZAMA": "11",
                                    "FEROHELY": "3",
                                    "POTAGY": "0",
                                    "KLIMAS": "i"
                                },
                                {
                                    "SZALLAS_NEV": "Fortuna panzió",
                                    "panzio-e": "Igen",
                                    "SZALLAS_FK": "4",
                                    "SZOBA_SZAMA": "12",
                                    "FEROHELY": "3",
                                    "POTAGY": "2",
                                    "KLIMAS": "i"
                                },
                                {
                                    "SZALLAS_NEV": "Fortuna panzió",
                                    "panzio-e": "Igen",
                                    "SZALLAS_FK": "4",
                                    "SZOBA_SZAMA": "13",
                                    "FEROHELY": "2",
                                    "POTAGY": "1",
                                    "KLIMAS": "i"
                                },
                                {
                                    "SZALLAS_NEV": "Fortuna panzió",
                                    "panzio-e": "Igen",
                                    "SZALLAS_FK": "4",
                                    "SZOBA_SZAMA": "14",
                                    "FEROHELY": "2",
                                    "POTAGY": "1",
                                    "KLIMAS": "i"
                                },
                                {
                                    "SZALLAS_NEV": "Fortuna panzió",
                                    "panzio-e": "Igen",
                                    "SZALLAS_FK": "4",
                                    "SZOBA_SZAMA": "15",
                                    "FEROHELY": "2",
                                    "POTAGY": "0",
                                    "KLIMAS": "i"
                                },
                                {
                                    "SZALLAS_NEV": "Fortuna Panzió",
                                    "panzio-e": "Igen",
                                    "SZALLAS_FK": "5",
                                    "SZOBA_SZAMA": "1",
                                    "FEROHELY": "3",
                                    "POTAGY": "0",
                                    "KLIMAS": "i"
                                },
                                {
                                    "SZALLAS_NEV": "Fortuna Panzió",
                                    "panzio-e": "Igen",
                                    "SZALLAS_FK": "5",
                                    "SZOBA_SZAMA": "2",
                                    "FEROHELY": "3",
                                    "POTAGY": "0",
                                    "KLIMAS": "n"
                                },
                                {
                                    "SZALLAS_NEV": "Fortuna Panzió",
                                    "panzio-e": "Igen",
                                    "SZALLAS_FK": "5",
                                    "SZOBA_SZAMA": "3",
                                    "FEROHELY": "2",
                                    "POTAGY": "1",
                                    "KLIMAS": "i"
                                },
                                {
                                    "SZALLAS_NEV": "Fortuna Panzió",
                                    "panzio-e": "Igen",
                                    "SZALLAS_FK": "5",
                                    "SZOBA_SZAMA": "4",
                                    "FEROHELY": "3",
                                    "POTAGY": "0",
                                    "KLIMAS": "i"
                                },
                                {
                                    "SZALLAS_NEV": "Fortuna Panzió",
                                    "panzio-e": "Igen",
                                    "SZALLAS_FK": "5",
                                    "SZOBA_SZAMA": "5",
                                    "FEROHELY": "3",
                                    "POTAGY": "0",
                                    "KLIMAS": "i"
                                },
                                {
                                    "SZALLAS_NEV": "Fortuna Panzió",
                                    "panzio-e": "Igen",
                                    "SZALLAS_FK": "5",
                                    "SZOBA_SZAMA": "6",
                                    "FEROHELY": "2",
                                    "POTAGY": "0",
                                    "KLIMAS": "n"
                                },
                                {
                                    "SZALLAS_NEV": "Fortuna Panzió",
                                    "panzio-e": "Igen",
                                    "SZALLAS_FK": "5",
                                    "SZOBA_SZAMA": "7",
                                    "FEROHELY": "3",
                                    "POTAGY": "0",
                                    "KLIMAS": "i"
                                },
                                {
                                    "SZALLAS_NEV": "Fortuna Panzió",
                                    "panzio-e": "Igen",
                                    "SZALLAS_FK": "5",
                                    "SZOBA_SZAMA": "8",
                                    "FEROHELY": "2",
                                    "POTAGY": "0",
                                    "KLIMAS": "i"
                                },
                                {
                                    "SZALLAS_NEV": "Fortuna Panzió",
                                    "panzio-e": "Igen",
                                    "SZALLAS_FK": "5",
                                    "SZOBA_SZAMA": "9",
                                    "FEROHELY": "3",
                                    "POTAGY": "0",
                                    "KLIMAS": "i"
                                },
                                {
                                    "SZALLAS_NEV": "Fortuna Panzió",
                                    "panzio-e": "Igen",
                                    "SZALLAS_FK": "5",
                                    "SZOBA_SZAMA": "10",
                                    "FEROHELY": "3",
                                    "POTAGY": "0",
                                    "KLIMAS": "i"
                                },
                                {
                                    "SZALLAS_NEV": "Kentaur Hotel",
                                    "panzio-e": "Nem",
                                    "SZALLAS_FK": "6",
                                    "SZOBA_SZAMA": "1",
                                    "FEROHELY": "2",
                                    "POTAGY": "0",
                                    "KLIMAS": "n"
                                },
                                {
                                    "SZALLAS_NEV": "Kentaur Hotel",
                                    "panzio-e": "Nem",
                                    "SZALLAS_FK": "6",
                                    "SZOBA_SZAMA": "2",
                                    "FEROHELY": "3",
                                    "POTAGY": "1",
                                    "KLIMAS": "i"
                                },
                                {
                                    "SZALLAS_NEV": "Kentaur Hotel",
                                    "panzio-e": "Nem",
                                    "SZALLAS_FK": "6",
                                    "SZOBA_SZAMA": "3",
                                    "FEROHELY": "2",
                                    "POTAGY": "1",
                                    "KLIMAS": "i"
                                },
                                {
                                    "SZALLAS_NEV": "Kentaur Hotel",
                                    "panzio-e": "Nem",
                                    "SZALLAS_FK": "6",
                                    "SZOBA_SZAMA": "4",
                                    "FEROHELY": "2",
                                    "POTAGY": "1",
                                    "KLIMAS": "i"
                                },
                                {
                                    "SZALLAS_NEV": "Kentaur Hotel",
                                    "panzio-e": "Nem",
                                    "SZALLAS_FK": "6",
                                    "SZOBA_SZAMA": "5",
                                    "FEROHELY": "3",
                                    "POTAGY": "0",
                                    "KLIMAS": "n"
                                },
                                {
                                    "SZALLAS_NEV": "Kentaur Hotel",
                                    "panzio-e": "Nem",
                                    "SZALLAS_FK": "6",
                                    "SZOBA_SZAMA": "6",
                                    "FEROHELY": "2",
                                    "POTAGY": "1",
                                    "KLIMAS": "i"
                                },
                                {
                                    "SZALLAS_NEV": "Kentaur Hotel",
                                    "panzio-e": "Nem",
                                    "SZALLAS_FK": "6",
                                    "SZOBA_SZAMA": "7",
                                    "FEROHELY": "2",
                                    "POTAGY": "0",
                                    "KLIMAS": "i"
                                },
                                {
                                    "SZALLAS_NEV": "Kentaur Hotel",
                                    "panzio-e": "Nem",
                                    "SZALLAS_FK": "6",
                                    "SZOBA_SZAMA": "8",
                                    "FEROHELY": "2",
                                    "POTAGY": "0",
                                    "KLIMAS": "n"
                                },
                                {
                                    "SZALLAS_NEV": "Kentaur Hotel",
                                    "panzio-e": "Nem",
                                    "SZALLAS_FK": "6",
                                    "SZOBA_SZAMA": "9",
                                    "FEROHELY": "2",
                                    "POTAGY": "1",
                                    "KLIMAS": "i"
                                },
                                {
                                    "SZALLAS_NEV": "Kentaur Hotel",
                                    "panzio-e": "Nem",
                                    "SZALLAS_FK": "6",
                                    "SZOBA_SZAMA": "10",
                                    "FEROHELY": "2",
                                    "POTAGY": "1",
                                    "KLIMAS": "n"
                                },
                                {
                                    "SZALLAS_NEV": "Kentaur Hotel",
                                    "panzio-e": "Nem",
                                    "SZALLAS_FK": "6",
                                    "SZOBA_SZAMA": "11",
                                    "FEROHELY": "3",
                                    "POTAGY": "0",
                                    "KLIMAS": "i"
                                },
                                {
                                    "SZALLAS_NEV": "Kentaur Hotel",
                                    "panzio-e": "Nem",
                                    "SZALLAS_FK": "6",
                                    "SZOBA_SZAMA": "12",
                                    "FEROHELY": "3",
                                    "POTAGY": "0",
                                    "KLIMAS": "i"
                                },
                                {
                                    "SZALLAS_NEV": "Kentaur Hotel",
                                    "panzio-e": "Nem",
                                    "SZALLAS_FK": "6",
                                    "SZOBA_SZAMA": "13",
                                    "FEROHELY": "2",
                                    "POTAGY": "0",
                                    "KLIMAS": "n"
                                },
                                {
                                    "SZALLAS_NEV": "Kentaur Hotel",
                                    "panzio-e": "Nem",
                                    "SZALLAS_FK": "6",
                                    "SZOBA_SZAMA": "14",
                                    "FEROHELY": "2",
                                    "POTAGY": "0",
                                    "KLIMAS": "n"
                                },
                                {
                                    "SZALLAS_NEV": "Kentaur Hotel",
                                    "panzio-e": "Nem",
                                    "SZALLAS_FK": "6",
                                    "SZOBA_SZAMA": "15",
                                    "FEROHELY": "2",
                                    "POTAGY": "0",
                                    "KLIMAS": "i"
                                },
                                {
                                    "SZALLAS_NEV": "Kentaur Hotel",
                                    "panzio-e": "Nem",
                                    "SZALLAS_FK": "6",
                                    "SZOBA_SZAMA": "16",
                                    "FEROHELY": "2",
                                    "POTAGY": "0",
                                    "KLIMAS": "n"
                                },
                                {
                                    "SZALLAS_NEV": "Kentaur Hotel",
                                    "panzio-e": "Nem",
                                    "SZALLAS_FK": "6",
                                    "SZOBA_SZAMA": "17",
                                    "FEROHELY": "3",
                                    "POTAGY": "0",
                                    "KLIMAS": "n"
                                },
                                {
                                    "SZALLAS_NEV": "Kentaur Hotel",
                                    "panzio-e": "Nem",
                                    "SZALLAS_FK": "6",
                                    "SZOBA_SZAMA": "18",
                                    "FEROHELY": "2",
                                    "POTAGY": "2",
                                    "KLIMAS": "i"
                                },
                                {
                                    "SZALLAS_NEV": "Kentaur Hotel",
                                    "panzio-e": "Nem",
                                    "SZALLAS_FK": "6",
                                    "SZOBA_SZAMA": "19",
                                    "FEROHELY": "2",
                                    "POTAGY": "2",
                                    "KLIMAS": "i"
                                },
                                {
                                    "SZALLAS_NEV": "Kentaur Hotel",
                                    "panzio-e": "Nem",
                                    "SZALLAS_FK": "6",
                                    "SZOBA_SZAMA": "20",
                                    "FEROHELY": "3",
                                    "POTAGY": "1",
                                    "KLIMAS": "n"
                                },
                                {
                                    "SZALLAS_NEV": "Kentaur Hotel",
                                    "panzio-e": "Nem",
                                    "SZALLAS_FK": "6",
                                    "SZOBA_SZAMA": "21",
                                    "FEROHELY": "2",
                                    "POTAGY": "1",
                                    "KLIMAS": "i"
                                },
                                {
                                    "SZALLAS_NEV": "Kentaur Hotel",
                                    "panzio-e": "Nem",
                                    "SZALLAS_FK": "6",
                                    "SZOBA_SZAMA": "22",
                                    "FEROHELY": "3",
                                    "POTAGY": "0",
                                    "KLIMAS": "i"
                                },
                                {
                                    "SZALLAS_NEV": "Kentaur Hotel",
                                    "panzio-e": "Nem",
                                    "SZALLAS_FK": "6",
                                    "SZOBA_SZAMA": "23",
                                    "FEROHELY": "2",
                                    "POTAGY": "0",
                                    "KLIMAS": "n"
                                },
                                {
                                    "SZALLAS_NEV": "Kentaur Hotel",
                                    "panzio-e": "Nem",
                                    "SZALLAS_FK": "6",
                                    "SZOBA_SZAMA": "24",
                                    "FEROHELY": "2",
                                    "POTAGY": "1",
                                    "KLIMAS": "i"
                                },
                                {
                                    "SZALLAS_NEV": "Kentaur Hotel",
                                    "panzio-e": "Nem",
                                    "SZALLAS_FK": "6",
                                    "SZOBA_SZAMA": "25",
                                    "FEROHELY": "3",
                                    "POTAGY": "1",
                                    "KLIMAS": "n"
                                },
                                {
                                    "SZALLAS_NEV": "Kentaur Hotel",
                                    "panzio-e": "Nem",
                                    "SZALLAS_FK": "6",
                                    "SZOBA_SZAMA": "26",
                                    "FEROHELY": "2",
                                    "POTAGY": "1",
                                    "KLIMAS": "n"
                                },
                                {
                                    "SZALLAS_NEV": "Kentaur Hotel",
                                    "panzio-e": "Nem",
                                    "SZALLAS_FK": "6",
                                    "SZOBA_SZAMA": "27",
                                    "FEROHELY": "2",
                                    "POTAGY": "0",
                                    "KLIMAS": "i"
                                },
                                {
                                    "SZALLAS_NEV": "Kentaur Hotel",
                                    "panzio-e": "Nem",
                                    "SZALLAS_FK": "6",
                                    "SZOBA_SZAMA": "28",
                                    "FEROHELY": "3",
                                    "POTAGY": "1",
                                    "KLIMAS": "i"
                                },
                                {
                                    "SZALLAS_NEV": "Kentaur Hotel",
                                    "panzio-e": "Nem",
                                    "SZALLAS_FK": "6",
                                    "SZOBA_SZAMA": "29",
                                    "FEROHELY": "2",
                                    "POTAGY": "1",
                                    "KLIMAS": "n"
                                },
                                {
                                    "SZALLAS_NEV": "Kentaur Hotel",
                                    "panzio-e": "Nem",
                                    "SZALLAS_FK": "6",
                                    "SZOBA_SZAMA": "30",
                                    "FEROHELY": "3",
                                    "POTAGY": "0",
                                    "KLIMAS": "i"
                                },
                                {
                                    "SZALLAS_NEV": "Kentaur Hotel",
                                    "panzio-e": "Nem",
                                    "SZALLAS_FK": "6",
                                    "SZOBA_SZAMA": "31",
                                    "FEROHELY": "2",
                                    "POTAGY": "1",
                                    "KLIMAS": "i"
                                },
                                {
                                    "SZALLAS_NEV": "Kentaur Hotel",
                                    "panzio-e": "Nem",
                                    "SZALLAS_FK": "6",
                                    "SZOBA_SZAMA": "32",
                                    "FEROHELY": "2",
                                    "POTAGY": "0",
                                    "KLIMAS": "i"
                                },
                                {
                                    "SZALLAS_NEV": "Kentaur Hotel",
                                    "panzio-e": "Nem",
                                    "SZALLAS_FK": "6",
                                    "SZOBA_SZAMA": "33",
                                    "FEROHELY": "3",
                                    "POTAGY": "0",
                                    "KLIMAS": "i"
                                },
                                {
                                    "SZALLAS_NEV": "Kentaur Hotel",
                                    "panzio-e": "Nem",
                                    "SZALLAS_FK": "6",
                                    "SZOBA_SZAMA": "34",
                                    "FEROHELY": "3",
                                    "POTAGY": "0",
                                    "KLIMAS": "i"
                                },
                                {
                                    "SZALLAS_NEV": "Kentaur Hotel",
                                    "panzio-e": "Nem",
                                    "SZALLAS_FK": "6",
                                    "SZOBA_SZAMA": "35",
                                    "FEROHELY": "3",
                                    "POTAGY": "0",
                                    "KLIMAS": "i"
                                },
                                {
                                    "SZALLAS_NEV": "Szieszta Apartmanház",
                                    "panzio-e": "Nem",
                                    "SZALLAS_FK": "7",
                                    "SZOBA_SZAMA": "1",
                                    "FEROHELY": "2",
                                    "POTAGY": "1",
                                    "KLIMAS": "n"
                                },
                                {
                                    "SZALLAS_NEV": "Szieszta Apartmanház",
                                    "panzio-e": "Nem",
                                    "SZALLAS_FK": "7",
                                    "SZOBA_SZAMA": "2",
                                    "FEROHELY": "2",
                                    "POTAGY": "1",
                                    "KLIMAS": "i"
                                },
                                {
                                    "SZALLAS_NEV": "Szieszta Apartmanház",
                                    "panzio-e": "Nem",
                                    "SZALLAS_FK": "7",
                                    "SZOBA_SZAMA": "3",
                                    "FEROHELY": "3",
                                    "POTAGY": "0",
                                    "KLIMAS": "i"
                                },
                                {
                                    "SZALLAS_NEV": "Szieszta Apartmanház",
                                    "panzio-e": "Nem",
                                    "SZALLAS_FK": "7",
                                    "SZOBA_SZAMA": "4",
                                    "FEROHELY": "3",
                                    "POTAGY": "0",
                                    "KLIMAS": "n"
                                },
                                {
                                    "SZALLAS_NEV": "Szieszta Apartmanház",
                                    "panzio-e": "Nem",
                                    "SZALLAS_FK": "7",
                                    "SZOBA_SZAMA": "5",
                                    "FEROHELY": "3",
                                    "POTAGY": "0",
                                    "KLIMAS": "i"
                                },
                                {
                                    "SZALLAS_NEV": "Szieszta Apartmanház",
                                    "panzio-e": "Nem",
                                    "SZALLAS_FK": "7",
                                    "SZOBA_SZAMA": "6",
                                    "FEROHELY": "3",
                                    "POTAGY": "0",
                                    "KLIMAS": "i"
                                },
                                {
                                    "SZALLAS_NEV": "Hotel Három Hattyú",
                                    "panzio-e": "Nem",
                                    "SZALLAS_FK": "8",
                                    "SZOBA_SZAMA": "1",
                                    "FEROHELY": "2",
                                    "POTAGY": "0",
                                    "KLIMAS": "n"
                                },
                                {
                                    "SZALLAS_NEV": "Hotel Három Hattyú",
                                    "panzio-e": "Nem",
                                    "SZALLAS_FK": "8",
                                    "SZOBA_SZAMA": "2",
                                    "FEROHELY": "3",
                                    "POTAGY": "1",
                                    "KLIMAS": "i"
                                },
                                {
                                    "SZALLAS_NEV": "Hotel Három Hattyú",
                                    "panzio-e": "Nem",
                                    "SZALLAS_FK": "8",
                                    "SZOBA_SZAMA": "3",
                                    "FEROHELY": "3",
                                    "POTAGY": "2",
                                    "KLIMAS": "i"
                                },
                                {
                                    "SZALLAS_NEV": "Hotel Három Hattyú",
                                    "panzio-e": "Nem",
                                    "SZALLAS_FK": "8",
                                    "SZOBA_SZAMA": "4",
                                    "FEROHELY": "2",
                                    "POTAGY": "0",
                                    "KLIMAS": "n"
                                },
                                {
                                    "SZALLAS_NEV": "Hotel Három Hattyú",
                                    "panzio-e": "Nem",
                                    "SZALLAS_FK": "8",
                                    "SZOBA_SZAMA": "5",
                                    "FEROHELY": "3",
                                    "POTAGY": "1",
                                    "KLIMAS": "i"
                                },
                                {
                                    "SZALLAS_NEV": "Hotel Három Hattyú",
                                    "panzio-e": "Nem",
                                    "SZALLAS_FK": "8",
                                    "SZOBA_SZAMA": "6",
                                    "FEROHELY": "3",
                                    "POTAGY": "0",
                                    "KLIMAS": "n"
                                },
                                {
                                    "SZALLAS_NEV": "Hotel Három Hattyú",
                                    "panzio-e": "Nem",
                                    "SZALLAS_FK": "8",
                                    "SZOBA_SZAMA": "7",
                                    "FEROHELY": "3",
                                    "POTAGY": "2",
                                    "KLIMAS": "n"
                                },
                                {
                                    "SZALLAS_NEV": "Hotel Három Hattyú",
                                    "panzio-e": "Nem",
                                    "SZALLAS_FK": "8",
                                    "SZOBA_SZAMA": "8",
                                    "FEROHELY": "2",
                                    "POTAGY": "0",
                                    "KLIMAS": "n"
                                },
                                {
                                    "SZALLAS_NEV": "Hotel Három Hattyú",
                                    "panzio-e": "Nem",
                                    "SZALLAS_FK": "8",
                                    "SZOBA_SZAMA": "9",
                                    "FEROHELY": "2",
                                    "POTAGY": "0",
                                    "KLIMAS": "n"
                                },
                                {
                                    "SZALLAS_NEV": "Hotel Három Hattyú",
                                    "panzio-e": "Nem",
                                    "SZALLAS_FK": "8",
                                    "SZOBA_SZAMA": "10",
                                    "FEROHELY": "2",
                                    "POTAGY": "1",
                                    "KLIMAS": "i"
                                },
                                {
                                    "SZALLAS_NEV": "Hotel Három Hattyú",
                                    "panzio-e": "Nem",
                                    "SZALLAS_FK": "8",
                                    "SZOBA_SZAMA": "11",
                                    "FEROHELY": "2",
                                    "POTAGY": "0",
                                    "KLIMAS": "i"
                                },
                                {
                                    "SZALLAS_NEV": "Hotel Három Hattyú",
                                    "panzio-e": "Nem",
                                    "SZALLAS_FK": "8",
                                    "SZOBA_SZAMA": "12",
                                    "FEROHELY": "2",
                                    "POTAGY": "1",
                                    "KLIMAS": "i"
                                },
                                {
                                    "SZALLAS_NEV": "Hotel Három Hattyú",
                                    "panzio-e": "Nem",
                                    "SZALLAS_FK": "8",
                                    "SZOBA_SZAMA": "13",
                                    "FEROHELY": "2",
                                    "POTAGY": "1",
                                    "KLIMAS": "i"
                                },
                                {
                                    "SZALLAS_NEV": "Hotel Három Hattyú",
                                    "panzio-e": "Nem",
                                    "SZALLAS_FK": "8",
                                    "SZOBA_SZAMA": "14",
                                    "FEROHELY": "3",
                                    "POTAGY": "0",
                                    "KLIMAS": "i"
                                },
                                {
                                    "SZALLAS_NEV": "Hotel Három Hattyú",
                                    "panzio-e": "Nem",
                                    "SZALLAS_FK": "8",
                                    "SZOBA_SZAMA": "15",
                                    "FEROHELY": "2",
                                    "POTAGY": "0",
                                    "KLIMAS": "i"
                                },
                                {
                                    "SZALLAS_NEV": "Hotel Három Hattyú",
                                    "panzio-e": "Nem",
                                    "SZALLAS_FK": "8",
                                    "SZOBA_SZAMA": "16",
                                    "FEROHELY": "2",
                                    "POTAGY": "0",
                                    "KLIMAS": "i"
                                },
                                {
                                    "SZALLAS_NEV": "Hotel Három Hattyú",
                                    "panzio-e": "Nem",
                                    "SZALLAS_FK": "8",
                                    "SZOBA_SZAMA": "17",
                                    "FEROHELY": "2",
                                    "POTAGY": "1",
                                    "KLIMAS": "n"
                                },
                                {
                                    "SZALLAS_NEV": "Hotel Három Hattyú",
                                    "panzio-e": "Nem",
                                    "SZALLAS_FK": "8",
                                    "SZOBA_SZAMA": "18",
                                    "FEROHELY": "2",
                                    "POTAGY": "0",
                                    "KLIMAS": "i"
                                },
                                {
                                    "SZALLAS_NEV": "Hotel Három Hattyú",
                                    "panzio-e": "Nem",
                                    "SZALLAS_FK": "8",
                                    "SZOBA_SZAMA": "19",
                                    "FEROHELY": "2",
                                    "POTAGY": "1",
                                    "KLIMAS": "i"
                                },
                                {
                                    "SZALLAS_NEV": "Hotel Három Hattyú",
                                    "panzio-e": "Nem",
                                    "SZALLAS_FK": "8",
                                    "SZOBA_SZAMA": "20",
                                    "FEROHELY": "2",
                                    "POTAGY": "0",
                                    "KLIMAS": "i"
                                },
                                {
                                    "SZALLAS_NEV": "Hotel Három Hattyú",
                                    "panzio-e": "Nem",
                                    "SZALLAS_FK": "8",
                                    "SZOBA_SZAMA": "21",
                                    "FEROHELY": "2",
                                    "POTAGY": "1",
                                    "KLIMAS": "i"
                                },
                                {
                                    "SZALLAS_NEV": "Hotel Három Hattyú",
                                    "panzio-e": "Nem",
                                    "SZALLAS_FK": "8",
                                    "SZOBA_SZAMA": "22",
                                    "FEROHELY": "3",
                                    "POTAGY": "0",
                                    "KLIMAS": "i"
                                },
                                {
                                    "SZALLAS_NEV": "Hotel Három Hattyú",
                                    "panzio-e": "Nem",
                                    "SZALLAS_FK": "8",
                                    "SZOBA_SZAMA": "23",
                                    "FEROHELY": "3",
                                    "POTAGY": "2",
                                    "KLIMAS": "i"
                                },
                                {
                                    "SZALLAS_NEV": "Hotel Három Hattyú",
                                    "panzio-e": "Nem",
                                    "SZALLAS_FK": "8",
                                    "SZOBA_SZAMA": "24",
                                    "FEROHELY": "2",
                                    "POTAGY": "1",
                                    "KLIMAS": "n"
                                },
                                {
                                    "SZALLAS_NEV": "Hotel Három Hattyú",
                                    "panzio-e": "Nem",
                                    "SZALLAS_FK": "8",
                                    "SZOBA_SZAMA": "25",
                                    "FEROHELY": "3",
                                    "POTAGY": "0",
                                    "KLIMAS": "i"
                                },
                                {
                                    "SZALLAS_NEV": "Hotel Három Hattyú",
                                    "panzio-e": "Nem",
                                    "SZALLAS_FK": "8",
                                    "SZOBA_SZAMA": "26",
                                    "FEROHELY": "3",
                                    "POTAGY": "0",
                                    "KLIMAS": "i"
                                },
                                {
                                    "SZALLAS_NEV": "Hotel Három Hattyú",
                                    "panzio-e": "Nem",
                                    "SZALLAS_FK": "8",
                                    "SZOBA_SZAMA": "27",
                                    "FEROHELY": "3",
                                    "POTAGY": "1",
                                    "KLIMAS": "i"
                                },
                                {
                                    "SZALLAS_NEV": "Hotel Három Hattyú",
                                    "panzio-e": "Nem",
                                    "SZALLAS_FK": "8",
                                    "SZOBA_SZAMA": "28",
                                    "FEROHELY": "2",
                                    "POTAGY": "1",
                                    "KLIMAS": "i"
                                },
                                {
                                    "SZALLAS_NEV": "Hotel Három Hattyú",
                                    "panzio-e": "Nem",
                                    "SZALLAS_FK": "8",
                                    "SZOBA_SZAMA": "29",
                                    "FEROHELY": "2",
                                    "POTAGY": "0",
                                    "KLIMAS": "i"
                                },
                                {
                                    "SZALLAS_NEV": "Hotel Három Hattyú",
                                    "panzio-e": "Nem",
                                    "SZALLAS_FK": "8",
                                    "SZOBA_SZAMA": "30",
                                    "FEROHELY": "3",
                                    "POTAGY": "1",
                                    "KLIMAS": "i"
                                },
                                {
                                    "SZALLAS_NEV": "Hotel Három Hattyú",
                                    "panzio-e": "Nem",
                                    "SZALLAS_FK": "8",
                                    "SZOBA_SZAMA": "31",
                                    "FEROHELY": "2",
                                    "POTAGY": "1",
                                    "KLIMAS": "i"
                                },
                                {
                                    "SZALLAS_NEV": "Hotel Három Hattyú",
                                    "panzio-e": "Nem",
                                    "SZALLAS_FK": "8",
                                    "SZOBA_SZAMA": "32",
                                    "FEROHELY": "3",
                                    "POTAGY": "1",
                                    "KLIMAS": "i"
                                },
                                {
                                    "SZALLAS_NEV": "Hotel Három Hattyú",
                                    "panzio-e": "Nem",
                                    "SZALLAS_FK": "8",
                                    "SZOBA_SZAMA": "33",
                                    "FEROHELY": "3",
                                    "POTAGY": "0",
                                    "KLIMAS": "n"
                                },
                                {
                                    "SZALLAS_NEV": "Hotel Három Hattyú",
                                    "panzio-e": "Nem",
                                    "SZALLAS_FK": "8",
                                    "SZOBA_SZAMA": "34",
                                    "FEROHELY": "3",
                                    "POTAGY": "0",
                                    "KLIMAS": "n"
                                },
                                {
                                    "SZALLAS_NEV": "Hotel Három Hattyú",
                                    "panzio-e": "Nem",
                                    "SZALLAS_FK": "8",
                                    "SZOBA_SZAMA": "35",
                                    "FEROHELY": "2",
                                    "POTAGY": "1",
                                    "KLIMAS": "i"
                                },
                                {
                                    "SZALLAS_NEV": "Hotel Három Hattyú",
                                    "panzio-e": "Nem",
                                    "SZALLAS_FK": "8",
                                    "SZOBA_SZAMA": "36",
                                    "FEROHELY": "2",
                                    "POTAGY": "1",
                                    "KLIMAS": "n"
                                },
                                {
                                    "SZALLAS_NEV": "Hotel Három Hattyú",
                                    "panzio-e": "Nem",
                                    "SZALLAS_FK": "8",
                                    "SZOBA_SZAMA": "37",
                                    "FEROHELY": "2",
                                    "POTAGY": "1",
                                    "KLIMAS": "i"
                                },
                                {
                                    "SZALLAS_NEV": "Hotel Három Hattyú",
                                    "panzio-e": "Nem",
                                    "SZALLAS_FK": "8",
                                    "SZOBA_SZAMA": "38",
                                    "FEROHELY": "2",
                                    "POTAGY": "1",
                                    "KLIMAS": "i"
                                },
                                {
                                    "SZALLAS_NEV": "Hotel Három Hattyú",
                                    "panzio-e": "Nem",
                                    "SZALLAS_FK": "8",
                                    "SZOBA_SZAMA": "39",
                                    "FEROHELY": "2",
                                    "POTAGY": "1",
                                    "KLIMAS": "i"
                                },
                                {
                                    "SZALLAS_NEV": "Jáde panzió",
                                    "panzio-e": "Igen",
                                    "SZALLAS_FK": "9",
                                    "SZOBA_SZAMA": "1",
                                    "FEROHELY": "2",
                                    "POTAGY": "0",
                                    "KLIMAS": "n"
                                },
                                {
                                    "SZALLAS_NEV": "Jáde panzió",
                                    "panzio-e": "Igen",
                                    "SZALLAS_FK": "9",
                                    "SZOBA_SZAMA": "2",
                                    "FEROHELY": "2",
                                    "POTAGY": "0",
                                    "KLIMAS": "n"
                                },
                                {
                                    "SZALLAS_NEV": "Jáde panzió",
                                    "panzio-e": "Igen",
                                    "SZALLAS_FK": "9",
                                    "SZOBA_SZAMA": "3",
                                    "FEROHELY": "3",
                                    "POTAGY": "0",
                                    "KLIMAS": "i"
                                },
                                {
                                    "SZALLAS_NEV": "Jáde panzió",
                                    "panzio-e": "Igen",
                                    "SZALLAS_FK": "9",
                                    "SZOBA_SZAMA": "4",
                                    "FEROHELY": "3",
                                    "POTAGY": "0",
                                    "KLIMAS": "n"
                                },
                                {
                                    "SZALLAS_NEV": "Jáde panzió",
                                    "panzio-e": "Igen",
                                    "SZALLAS_FK": "9",
                                    "SZOBA_SZAMA": "5",
                                    "FEROHELY": "3",
                                    "POTAGY": "0",
                                    "KLIMAS": "i"
                                },
                                {
                                    "SZALLAS_NEV": "Lagúna Hotel",
                                    "panzio-e": "Nem",
                                    "SZALLAS_FK": "10",
                                    "SZOBA_SZAMA": "1",
                                    "FEROHELY": "3",
                                    "POTAGY": "0",
                                    "KLIMAS": "i"
                                },
                                {
                                    "SZALLAS_NEV": "Lagúna Hotel",
                                    "panzio-e": "Nem",
                                    "SZALLAS_FK": "10",
                                    "SZOBA_SZAMA": "2",
                                    "FEROHELY": "2",
                                    "POTAGY": "0",
                                    "KLIMAS": "n"
                                },
                                {
                                    "SZALLAS_NEV": "Lagúna Hotel",
                                    "panzio-e": "Nem",
                                    "SZALLAS_FK": "10",
                                    "SZOBA_SZAMA": "3",
                                    "FEROHELY": "2",
                                    "POTAGY": "1",
                                    "KLIMAS": "i"
                                },
                                {
                                    "SZALLAS_NEV": "Lagúna Hotel",
                                    "panzio-e": "Nem",
                                    "SZALLAS_FK": "10",
                                    "SZOBA_SZAMA": "4",
                                    "FEROHELY": "3",
                                    "POTAGY": "1",
                                    "KLIMAS": "i"
                                },
                                {
                                    "SZALLAS_NEV": "Lagúna Hotel",
                                    "panzio-e": "Nem",
                                    "SZALLAS_FK": "10",
                                    "SZOBA_SZAMA": "5",
                                    "FEROHELY": "2",
                                    "POTAGY": "1",
                                    "KLIMAS": "i"
                                },
                                {
                                    "SZALLAS_NEV": "Lagúna Hotel",
                                    "panzio-e": "Nem",
                                    "SZALLAS_FK": "10",
                                    "SZOBA_SZAMA": "6",
                                    "FEROHELY": "2",
                                    "POTAGY": "1",
                                    "KLIMAS": "i"
                                },
                                {
                                    "SZALLAS_NEV": "Lagúna Hotel",
                                    "panzio-e": "Nem",
                                    "SZALLAS_FK": "10",
                                    "SZOBA_SZAMA": "7",
                                    "FEROHELY": "2",
                                    "POTAGY": "0",
                                    "KLIMAS": "n"
                                },
                                {
                                    "SZALLAS_NEV": "Lagúna Hotel",
                                    "panzio-e": "Nem",
                                    "SZALLAS_FK": "10",
                                    "SZOBA_SZAMA": "8",
                                    "FEROHELY": "3",
                                    "POTAGY": "0",
                                    "KLIMAS": "n"
                                },
                                {
                                    "SZALLAS_NEV": "Lagúna Hotel",
                                    "panzio-e": "Nem",
                                    "SZALLAS_FK": "10",
                                    "SZOBA_SZAMA": "9",
                                    "FEROHELY": "3",
                                    "POTAGY": "1",
                                    "KLIMAS": "i"
                                },
                                {
                                    "SZALLAS_NEV": "Lagúna Hotel",
                                    "panzio-e": "Nem",
                                    "SZALLAS_FK": "10",
                                    "SZOBA_SZAMA": "10",
                                    "FEROHELY": "3",
                                    "POTAGY": "1",
                                    "KLIMAS": "n"
                                },
                                {
                                    "SZALLAS_NEV": "Lagúna Hotel",
                                    "panzio-e": "Nem",
                                    "SZALLAS_FK": "10",
                                    "SZOBA_SZAMA": "11",
                                    "FEROHELY": "2",
                                    "POTAGY": "2",
                                    "KLIMAS": "i"
                                },
                                {
                                    "SZALLAS_NEV": "Lagúna Hotel",
                                    "panzio-e": "Nem",
                                    "SZALLAS_FK": "10",
                                    "SZOBA_SZAMA": "12",
                                    "FEROHELY": "3",
                                    "POTAGY": "0",
                                    "KLIMAS": "i"
                                },
                                {
                                    "SZALLAS_NEV": "Lagúna Hotel",
                                    "panzio-e": "Nem",
                                    "SZALLAS_FK": "10",
                                    "SZOBA_SZAMA": "13",
                                    "FEROHELY": "2",
                                    "POTAGY": "0",
                                    "KLIMAS": "i"
                                },
                                {
                                    "SZALLAS_NEV": "Lagúna Hotel",
                                    "panzio-e": "Nem",
                                    "SZALLAS_FK": "10",
                                    "SZOBA_SZAMA": "14",
                                    "FEROHELY": "2",
                                    "POTAGY": "0",
                                    "KLIMAS": "i"
                                },
                                {
                                    "SZALLAS_NEV": "Lagúna Hotel",
                                    "panzio-e": "Nem",
                                    "SZALLAS_FK": "10",
                                    "SZOBA_SZAMA": "15",
                                    "FEROHELY": "2",
                                    "POTAGY": "0",
                                    "KLIMAS": "i"
                                },
                                {
                                    "SZALLAS_NEV": "Lagúna Hotel",
                                    "panzio-e": "Nem",
                                    "SZALLAS_FK": "10",
                                    "SZOBA_SZAMA": "16",
                                    "FEROHELY": "2",
                                    "POTAGY": "1",
                                    "KLIMAS": "i"
                                },
                                {
                                    "SZALLAS_NEV": "Lagúna Hotel",
                                    "panzio-e": "Nem",
                                    "SZALLAS_FK": "10",
                                    "SZOBA_SZAMA": "17",
                                    "FEROHELY": "2",
                                    "POTAGY": "0",
                                    "KLIMAS": "n"
                                },
                                {
                                    "SZALLAS_NEV": "Lagúna Hotel",
                                    "panzio-e": "Nem",
                                    "SZALLAS_FK": "10",
                                    "SZOBA_SZAMA": "18",
                                    "FEROHELY": "2",
                                    "POTAGY": "0",
                                    "KLIMAS": "i"
                                },
                                {
                                    "SZALLAS_NEV": "Lagúna Hotel",
                                    "panzio-e": "Nem",
                                    "SZALLAS_FK": "10",
                                    "SZOBA_SZAMA": "19",
                                    "FEROHELY": "3",
                                    "POTAGY": "0",
                                    "KLIMAS": "n"
                                },
                                {
                                    "SZALLAS_NEV": "Lagúna Hotel",
                                    "panzio-e": "Nem",
                                    "SZALLAS_FK": "10",
                                    "SZOBA_SZAMA": "20",
                                    "FEROHELY": "2",
                                    "POTAGY": "1",
                                    "KLIMAS": "i"
                                },
                                {
                                    "SZALLAS_NEV": "Lagúna Hotel",
                                    "panzio-e": "Nem",
                                    "SZALLAS_FK": "10",
                                    "SZOBA_SZAMA": "21",
                                    "FEROHELY": "3",
                                    "POTAGY": "1",
                                    "KLIMAS": "n"
                                },
                                {
                                    "SZALLAS_NEV": "Lagúna Hotel",
                                    "panzio-e": "Nem",
                                    "SZALLAS_FK": "10",
                                    "SZOBA_SZAMA": "22",
                                    "FEROHELY": "2",
                                    "POTAGY": "2",
                                    "KLIMAS": "i"
                                },
                                {
                                    "SZALLAS_NEV": "Lagúna Hotel",
                                    "panzio-e": "Nem",
                                    "SZALLAS_FK": "10",
                                    "SZOBA_SZAMA": "23",
                                    "FEROHELY": "2",
                                    "POTAGY": "0",
                                    "KLIMAS": "n"
                                },
                                {
                                    "SZALLAS_NEV": "Lagúna Hotel",
                                    "panzio-e": "Nem",
                                    "SZALLAS_FK": "10",
                                    "SZOBA_SZAMA": "24",
                                    "FEROHELY": "2",
                                    "POTAGY": "1",
                                    "KLIMAS": "n"
                                },
                                {
                                    "SZALLAS_NEV": "Lagúna Hotel",
                                    "panzio-e": "Nem",
                                    "SZALLAS_FK": "10",
                                    "SZOBA_SZAMA": "25",
                                    "FEROHELY": "3",
                                    "POTAGY": "1",
                                    "KLIMAS": "n"
                                },
                                {
                                    "SZALLAS_NEV": "Partiszél Vendégház",
                                    "panzio-e": "Nem",
                                    "SZALLAS_FK": "11",
                                    "SZOBA_SZAMA": "1",
                                    "FEROHELY": "3",
                                    "POTAGY": "1",
                                    "KLIMAS": "i"
                                },
                                {
                                    "SZALLAS_NEV": "Partiszél Vendégház",
                                    "panzio-e": "Nem",
                                    "SZALLAS_FK": "11",
                                    "SZOBA_SZAMA": "2",
                                    "FEROHELY": "2",
                                    "POTAGY": "2",
                                    "KLIMAS": "i"
                                },
                                {
                                    "SZALLAS_NEV": "Partiszél Vendégház",
                                    "panzio-e": "Nem",
                                    "SZALLAS_FK": "11",
                                    "SZOBA_SZAMA": "3",
                                    "FEROHELY": "3",
                                    "POTAGY": "0",
                                    "KLIMAS": "n"
                                },
                                {
                                    "SZALLAS_NEV": "Partiszél Vendégház",
                                    "panzio-e": "Nem",
                                    "SZALLAS_FK": "11",
                                    "SZOBA_SZAMA": "4",
                                    "FEROHELY": "2",
                                    "POTAGY": "0",
                                    "KLIMAS": "i"
                                },
                                {
                                    "SZALLAS_NEV": "Partiszél Vendégház",
                                    "panzio-e": "Nem",
                                    "SZALLAS_FK": "11",
                                    "SZOBA_SZAMA": "5",
                                    "FEROHELY": "2",
                                    "POTAGY": "0",
                                    "KLIMAS": "i"
                                },
                                {
                                    "SZALLAS_NEV": "Gold Hotel",
                                    "panzio-e": "Nem",
                                    "SZALLAS_FK": "12",
                                    "SZOBA_SZAMA": "1",
                                    "FEROHELY": "2",
                                    "POTAGY": "0",
                                    "KLIMAS": "n"
                                },
                                {
                                    "SZALLAS_NEV": "Gold Hotel",
                                    "panzio-e": "Nem",
                                    "SZALLAS_FK": "12",
                                    "SZOBA_SZAMA": "2",
                                    "FEROHELY": "2",
                                    "POTAGY": "1",
                                    "KLIMAS": "i"
                                },
                                {
                                    "SZALLAS_NEV": "Gold Hotel",
                                    "panzio-e": "Nem",
                                    "SZALLAS_FK": "12",
                                    "SZOBA_SZAMA": "3",
                                    "FEROHELY": "3",
                                    "POTAGY": "0",
                                    "KLIMAS": "i"
                                },
                                {
                                    "SZALLAS_NEV": "Gold Hotel",
                                    "panzio-e": "Nem",
                                    "SZALLAS_FK": "12",
                                    "SZOBA_SZAMA": "4",
                                    "FEROHELY": "2",
                                    "POTAGY": "2",
                                    "KLIMAS": "i"
                                },
                                {
                                    "SZALLAS_NEV": "Gold Hotel",
                                    "panzio-e": "Nem",
                                    "SZALLAS_FK": "12",
                                    "SZOBA_SZAMA": "5",
                                    "FEROHELY": "2",
                                    "POTAGY": "1",
                                    "KLIMAS": "i"
                                },
                                {
                                    "SZALLAS_NEV": "Gold Hotel",
                                    "panzio-e": "Nem",
                                    "SZALLAS_FK": "12",
                                    "SZOBA_SZAMA": "6",
                                    "FEROHELY": "2",
                                    "POTAGY": "0",
                                    "KLIMAS": "i"
                                },
                                {
                                    "SZALLAS_NEV": "Gold Hotel",
                                    "panzio-e": "Nem",
                                    "SZALLAS_FK": "12",
                                    "SZOBA_SZAMA": "7",
                                    "FEROHELY": "2",
                                    "POTAGY": "1",
                                    "KLIMAS": "i"
                                },
                                {
                                    "SZALLAS_NEV": "Gold Hotel",
                                    "panzio-e": "Nem",
                                    "SZALLAS_FK": "12",
                                    "SZOBA_SZAMA": "8",
                                    "FEROHELY": "2",
                                    "POTAGY": "2",
                                    "KLIMAS": "n"
                                },
                                {
                                    "SZALLAS_NEV": "Gold Hotel",
                                    "panzio-e": "Nem",
                                    "SZALLAS_FK": "12",
                                    "SZOBA_SZAMA": "9",
                                    "FEROHELY": "2",
                                    "POTAGY": "0",
                                    "KLIMAS": "i"
                                },
                                {
                                    "SZALLAS_NEV": "Gold Hotel",
                                    "panzio-e": "Nem",
                                    "SZALLAS_FK": "12",
                                    "SZOBA_SZAMA": "10",
                                    "FEROHELY": "2",
                                    "POTAGY": "0",
                                    "KLIMAS": "i"
                                },
                                {
                                    "SZALLAS_NEV": "Gold Hotel",
                                    "panzio-e": "Nem",
                                    "SZALLAS_FK": "12",
                                    "SZOBA_SZAMA": "11",
                                    "FEROHELY": "2",
                                    "POTAGY": "0",
                                    "KLIMAS": "i"
                                },
                                {
                                    "SZALLAS_NEV": "Gold Hotel",
                                    "panzio-e": "Nem",
                                    "SZALLAS_FK": "12",
                                    "SZOBA_SZAMA": "12",
                                    "FEROHELY": "3",
                                    "POTAGY": "1",
                                    "KLIMAS": "i"
                                },
                                {
                                    "SZALLAS_NEV": "Gold Hotel",
                                    "panzio-e": "Nem",
                                    "SZALLAS_FK": "12",
                                    "SZOBA_SZAMA": "13",
                                    "FEROHELY": "3",
                                    "POTAGY": "2",
                                    "KLIMAS": "i"
                                },
                                {
                                    "SZALLAS_NEV": "Gold Hotel",
                                    "panzio-e": "Nem",
                                    "SZALLAS_FK": "12",
                                    "SZOBA_SZAMA": "14",
                                    "FEROHELY": "3",
                                    "POTAGY": "0",
                                    "KLIMAS": "i"
                                },
                                {
                                    "SZALLAS_NEV": "Gold Hotel",
                                    "panzio-e": "Nem",
                                    "SZALLAS_FK": "12",
                                    "SZOBA_SZAMA": "15",
                                    "FEROHELY": "3",
                                    "POTAGY": "2",
                                    "KLIMAS": "i"
                                },
                                {
                                    "SZALLAS_NEV": "Gold Hotel",
                                    "panzio-e": "Nem",
                                    "SZALLAS_FK": "12",
                                    "SZOBA_SZAMA": "16",
                                    "FEROHELY": "2",
                                    "POTAGY": "2",
                                    "KLIMAS": "i"
                                },
                                {
                                    "SZALLAS_NEV": "Gold Hotel",
                                    "panzio-e": "Nem",
                                    "SZALLAS_FK": "12",
                                    "SZOBA_SZAMA": "17",
                                    "FEROHELY": "3",
                                    "POTAGY": "0",
                                    "KLIMAS": "i"
                                },
                                {
                                    "SZALLAS_NEV": "Gold Hotel",
                                    "panzio-e": "Nem",
                                    "SZALLAS_FK": "12",
                                    "SZOBA_SZAMA": "18",
                                    "FEROHELY": "2",
                                    "POTAGY": "0",
                                    "KLIMAS": "n"
                                },
                                {
                                    "SZALLAS_NEV": "Gold Hotel",
                                    "panzio-e": "Nem",
                                    "SZALLAS_FK": "12",
                                    "SZOBA_SZAMA": "19",
                                    "FEROHELY": "3",
                                    "POTAGY": "0",
                                    "KLIMAS": "i"
                                },
                                {
                                    "SZALLAS_NEV": "Gold Hotel",
                                    "panzio-e": "Nem",
                                    "SZALLAS_FK": "12",
                                    "SZOBA_SZAMA": "20",
                                    "FEROHELY": "2",
                                    "POTAGY": "0",
                                    "KLIMAS": "n"
                                },
                                {
                                    "SZALLAS_NEV": "Gold Hotel",
                                    "panzio-e": "Nem",
                                    "SZALLAS_FK": "12",
                                    "SZOBA_SZAMA": "21",
                                    "FEROHELY": "3",
                                    "POTAGY": "0",
                                    "KLIMAS": "i"
                                },
                                {
                                    "SZALLAS_NEV": "Gold Hotel",
                                    "panzio-e": "Nem",
                                    "SZALLAS_FK": "12",
                                    "SZOBA_SZAMA": "22",
                                    "FEROHELY": "2",
                                    "POTAGY": "2",
                                    "KLIMAS": "i"
                                },
                                {
                                    "SZALLAS_NEV": "Gold Hotel",
                                    "panzio-e": "Nem",
                                    "SZALLAS_FK": "12",
                                    "SZOBA_SZAMA": "23",
                                    "FEROHELY": "3",
                                    "POTAGY": "1",
                                    "KLIMAS": "i"
                                },
                                {
                                    "SZALLAS_NEV": "Gold Hotel",
                                    "panzio-e": "Nem",
                                    "SZALLAS_FK": "12",
                                    "SZOBA_SZAMA": "24",
                                    "FEROHELY": "3",
                                    "POTAGY": "0",
                                    "KLIMAS": "i"
                                },
                                {
                                    "SZALLAS_NEV": "Gold Hotel",
                                    "panzio-e": "Nem",
                                    "SZALLAS_FK": "12",
                                    "SZOBA_SZAMA": "25",
                                    "FEROHELY": "2",
                                    "POTAGY": "2",
                                    "KLIMAS": "i"
                                },
                                {
                                    "SZALLAS_NEV": "Gold Hotel",
                                    "panzio-e": "Nem",
                                    "SZALLAS_FK": "12",
                                    "SZOBA_SZAMA": "26",
                                    "FEROHELY": "2",
                                    "POTAGY": "0",
                                    "KLIMAS": "i"
                                },
                                {
                                    "SZALLAS_NEV": "Gold Hotel",
                                    "panzio-e": "Nem",
                                    "SZALLAS_FK": "12",
                                    "SZOBA_SZAMA": "27",
                                    "FEROHELY": "2",
                                    "POTAGY": "1",
                                    "KLIMAS": "i"
                                },
                                {
                                    "SZALLAS_NEV": "Gold Hotel",
                                    "panzio-e": "Nem",
                                    "SZALLAS_FK": "12",
                                    "SZOBA_SZAMA": "28",
                                    "FEROHELY": "2",
                                    "POTAGY": "1",
                                    "KLIMAS": "i"
                                },
                                {
                                    "SZALLAS_NEV": "Gold Hotel",
                                    "panzio-e": "Nem",
                                    "SZALLAS_FK": "12",
                                    "SZOBA_SZAMA": "29",
                                    "FEROHELY": "3",
                                    "POTAGY": "2",
                                    "KLIMAS": "n"
                                },
                                {
                                    "SZALLAS_NEV": "Gold Hotel",
                                    "panzio-e": "Nem",
                                    "SZALLAS_FK": "12",
                                    "SZOBA_SZAMA": "30",
                                    "FEROHELY": "2",
                                    "POTAGY": "1",
                                    "KLIMAS": "i"
                                },
                                {
                                    "SZALLAS_NEV": "Gold Hotel",
                                    "panzio-e": "Nem",
                                    "SZALLAS_FK": "12",
                                    "SZOBA_SZAMA": "31",
                                    "FEROHELY": "2",
                                    "POTAGY": "0",
                                    "KLIMAS": "i"
                                },
                                {
                                    "SZALLAS_NEV": "Gold Hotel",
                                    "panzio-e": "Nem",
                                    "SZALLAS_FK": "12",
                                    "SZOBA_SZAMA": "32",
                                    "FEROHELY": "2",
                                    "POTAGY": "1",
                                    "KLIMAS": "i"
                                },
                                {
                                    "SZALLAS_NEV": "Gold Hotel",
                                    "panzio-e": "Nem",
                                    "SZALLAS_FK": "12",
                                    "SZOBA_SZAMA": "33",
                                    "FEROHELY": "3",
                                    "POTAGY": "0",
                                    "KLIMAS": "i"
                                },
                                {
                                    "SZALLAS_NEV": "Gold Hotel",
                                    "panzio-e": "Nem",
                                    "SZALLAS_FK": "12",
                                    "SZOBA_SZAMA": "34",
                                    "FEROHELY": "3",
                                    "POTAGY": "0",
                                    "KLIMAS": "i"
                                },
                                {
                                    "SZALLAS_NEV": "Gold Hotel",
                                    "panzio-e": "Nem",
                                    "SZALLAS_FK": "12",
                                    "SZOBA_SZAMA": "35",
                                    "FEROHELY": "3",
                                    "POTAGY": "2",
                                    "KLIMAS": "i"
                                },
                                {
                                    "SZALLAS_NEV": "Gold Hotel",
                                    "panzio-e": "Nem",
                                    "SZALLAS_FK": "12",
                                    "SZOBA_SZAMA": "36",
                                    "FEROHELY": "2",
                                    "POTAGY": "0",
                                    "KLIMAS": "i"
                                },
                                {
                                    "SZALLAS_NEV": "Gold Hotel",
                                    "panzio-e": "Nem",
                                    "SZALLAS_FK": "12",
                                    "SZOBA_SZAMA": "37",
                                    "FEROHELY": "3",
                                    "POTAGY": "1",
                                    "KLIMAS": "n"
                                },
                                {
                                    "SZALLAS_NEV": "Gold Hotel",
                                    "panzio-e": "Nem",
                                    "SZALLAS_FK": "12",
                                    "SZOBA_SZAMA": "38",
                                    "FEROHELY": "3",
                                    "POTAGY": "1",
                                    "KLIMAS": "i"
                                },
                                {
                                    "SZALLAS_NEV": "Gold Hotel",
                                    "panzio-e": "Nem",
                                    "SZALLAS_FK": "12",
                                    "SZOBA_SZAMA": "39",
                                    "FEROHELY": "3",
                                    "POTAGY": "0",
                                    "KLIMAS": "i"
                                },
                                {
                                    "SZALLAS_NEV": "Gold Hotel",
                                    "panzio-e": "Nem",
                                    "SZALLAS_FK": "12",
                                    "SZOBA_SZAMA": "40",
                                    "FEROHELY": "3",
                                    "POTAGY": "1",
                                    "KLIMAS": "i"
                                },
                                {
                                    "SZALLAS_NEV": "Gold Hotel",
                                    "panzio-e": "Nem",
                                    "SZALLAS_FK": "12",
                                    "SZOBA_SZAMA": "41",
                                    "FEROHELY": "3",
                                    "POTAGY": "0",
                                    "KLIMAS": "i"
                                },
                                {
                                    "SZALLAS_NEV": "Gold Hotel",
                                    "panzio-e": "Nem",
                                    "SZALLAS_FK": "12",
                                    "SZOBA_SZAMA": "42",
                                    "FEROHELY": "2",
                                    "POTAGY": "1",
                                    "KLIMAS": "i"
                                },
                                {
                                    "SZALLAS_NEV": "Gold Hotel",
                                    "panzio-e": "Nem",
                                    "SZALLAS_FK": "12",
                                    "SZOBA_SZAMA": "43",
                                    "FEROHELY": "2",
                                    "POTAGY": "1",
                                    "KLIMAS": "i"
                                },
                                {
                                    "SZALLAS_NEV": "Gold Hotel",
                                    "panzio-e": "Nem",
                                    "SZALLAS_FK": "12",
                                    "SZOBA_SZAMA": "44",
                                    "FEROHELY": "2",
                                    "POTAGY": "1",
                                    "KLIMAS": "i"
                                },
                                {
                                    "SZALLAS_NEV": "Gold Hotel",
                                    "panzio-e": "Nem",
                                    "SZALLAS_FK": "12",
                                    "SZOBA_SZAMA": "45",
                                    "FEROHELY": "3",
                                    "POTAGY": "2",
                                    "KLIMAS": "n"
                                },
                                {
                                    "SZALLAS_NEV": "Gold Hotel",
                                    "panzio-e": "Nem",
                                    "SZALLAS_FK": "12",
                                    "SZOBA_SZAMA": "46",
                                    "FEROHELY": "2",
                                    "POTAGY": "0",
                                    "KLIMAS": "i"
                                },
                                {
                                    "SZALLAS_NEV": "Gold Hotel",
                                    "panzio-e": "Nem",
                                    "SZALLAS_FK": "12",
                                    "SZOBA_SZAMA": "47",
                                    "FEROHELY": "2",
                                    "POTAGY": "1",
                                    "KLIMAS": "i"
                                },
                                {
                                    "SZALLAS_NEV": "Gold Hotel",
                                    "panzio-e": "Nem",
                                    "SZALLAS_FK": "12",
                                    "SZOBA_SZAMA": "48",
                                    "FEROHELY": "3",
                                    "POTAGY": "0",
                                    "KLIMAS": "n"
                                },
                                {
                                    "SZALLAS_NEV": "Gold Hotel",
                                    "panzio-e": "Nem",
                                    "SZALLAS_FK": "12",
                                    "SZOBA_SZAMA": "49",
                                    "FEROHELY": "3",
                                    "POTAGY": "0",
                                    "KLIMAS": "i"
                                },
                                {
                                    "SZALLAS_NEV": "Gold Hotel",
                                    "panzio-e": "Nem",
                                    "SZALLAS_FK": "12",
                                    "SZOBA_SZAMA": "50",
                                    "FEROHELY": "3",
                                    "POTAGY": "1",
                                    "KLIMAS": "i"
                                },
                                {
                                    "SZALLAS_NEV": "Riviéra Panzió",
                                    "panzio-e": "Igen",
                                    "SZALLAS_FK": "13",
                                    "SZOBA_SZAMA": "1",
                                    "FEROHELY": "2",
                                    "POTAGY": "1",
                                    "KLIMAS": "i"
                                },
                                {
                                    "SZALLAS_NEV": "Riviéra Panzió",
                                    "panzio-e": "Igen",
                                    "SZALLAS_FK": "13",
                                    "SZOBA_SZAMA": "2",
                                    "FEROHELY": "3",
                                    "POTAGY": "1",
                                    "KLIMAS": "i"
                                },
                                {
                                    "SZALLAS_NEV": "Riviéra Panzió",
                                    "panzio-e": "Igen",
                                    "SZALLAS_FK": "13",
                                    "SZOBA_SZAMA": "3",
                                    "FEROHELY": "2",
                                    "POTAGY": "1",
                                    "KLIMAS": "n"
                                },
                                {
                                    "SZALLAS_NEV": "Riviéra Panzió",
                                    "panzio-e": "Igen",
                                    "SZALLAS_FK": "13",
                                    "SZOBA_SZAMA": "4",
                                    "FEROHELY": "3",
                                    "POTAGY": "0",
                                    "KLIMAS": "i"
                                },
                                {
                                    "SZALLAS_NEV": "Riviéra Panzió",
                                    "panzio-e": "Igen",
                                    "SZALLAS_FK": "13",
                                    "SZOBA_SZAMA": "5",
                                    "FEROHELY": "2",
                                    "POTAGY": "0",
                                    "KLIMAS": "n"
                                },
                                {
                                    "SZALLAS_NEV": "Riviéra Panzió",
                                    "panzio-e": "Igen",
                                    "SZALLAS_FK": "13",
                                    "SZOBA_SZAMA": "6",
                                    "FEROHELY": "3",
                                    "POTAGY": "0",
                                    "KLIMAS": "i"
                                },
                                {
                                    "SZALLAS_NEV": "Riviéra Panzió",
                                    "panzio-e": "Igen",
                                    "SZALLAS_FK": "13",
                                    "SZOBA_SZAMA": "7",
                                    "FEROHELY": "3",
                                    "POTAGY": "0",
                                    "KLIMAS": "i"
                                },
                                {
                                    "SZALLAS_NEV": "Riviéra Panzió",
                                    "panzio-e": "Igen",
                                    "SZALLAS_FK": "13",
                                    "SZOBA_SZAMA": "8",
                                    "FEROHELY": "2",
                                    "POTAGY": "0",
                                    "KLIMAS": "n"
                                },
                                {
                                    "SZALLAS_NEV": "Riviéra Panzió",
                                    "panzio-e": "Igen",
                                    "SZALLAS_FK": "13",
                                    "SZOBA_SZAMA": "9",
                                    "FEROHELY": "2",
                                    "POTAGY": "1",
                                    "KLIMAS": "i"
                                },
                                {
                                    "SZALLAS_NEV": "Riviéra Panzió",
                                    "panzio-e": "Igen",
                                    "SZALLAS_FK": "13",
                                    "SZOBA_SZAMA": "10",
                                    "FEROHELY": "2",
                                    "POTAGY": "0",
                                    "KLIMAS": "i"
                                },
                                {
                                    "SZALLAS_NEV": "Riviéra Panzió",
                                    "panzio-e": "Igen",
                                    "SZALLAS_FK": "13",
                                    "SZOBA_SZAMA": "11",
                                    "FEROHELY": "2",
                                    "POTAGY": "1",
                                    "KLIMAS": "i"
                                },
                                {
                                    "SZALLAS_NEV": "Riviéra Panzió",
                                    "panzio-e": "Igen",
                                    "SZALLAS_FK": "13",
                                    "SZOBA_SZAMA": "12",
                                    "FEROHELY": "3",
                                    "POTAGY": "1",
                                    "KLIMAS": "n"
                                },
                                {
                                    "SZALLAS_NEV": "Nyárfás Vendégház",
                                    "panzio-e": "Nem",
                                    "SZALLAS_FK": "14",
                                    "SZOBA_SZAMA": "1",
                                    "FEROHELY": "2",
                                    "POTAGY": "1",
                                    "KLIMAS": "i"
                                },
                                {
                                    "SZALLAS_NEV": "Nyárfás Vendégház",
                                    "panzio-e": "Nem",
                                    "SZALLAS_FK": "14",
                                    "SZOBA_SZAMA": "2",
                                    "FEROHELY": "3",
                                    "POTAGY": "0",
                                    "KLIMAS": "i"
                                },
                                {
                                    "SZALLAS_NEV": "Nyárfás Vendégház",
                                    "panzio-e": "Nem",
                                    "SZALLAS_FK": "14",
                                    "SZOBA_SZAMA": "3",
                                    "FEROHELY": "2",
                                    "POTAGY": "0",
                                    "KLIMAS": "i"
                                },
                                {
                                    "SZALLAS_NEV": "Nyárfás Vendégház",
                                    "panzio-e": "Nem",
                                    "SZALLAS_FK": "14",
                                    "SZOBA_SZAMA": "4",
                                    "FEROHELY": "3",
                                    "POTAGY": "2",
                                    "KLIMAS": "i"
                                },
                                {
                                    "SZALLAS_NEV": "Tímárház Panzió",
                                    "panzio-e": "Igen",
                                    "SZALLAS_FK": "15",
                                    "SZOBA_SZAMA": "1",
                                    "FEROHELY": "2",
                                    "POTAGY": "0",
                                    "KLIMAS": "i"
                                },
                                {
                                    "SZALLAS_NEV": "Tímárház Panzió",
                                    "panzio-e": "Igen",
                                    "SZALLAS_FK": "15",
                                    "SZOBA_SZAMA": "2",
                                    "FEROHELY": "2",
                                    "POTAGY": "0",
                                    "KLIMAS": "i"
                                },
                                {
                                    "SZALLAS_NEV": "Tímárház Panzió",
                                    "panzio-e": "Igen",
                                    "SZALLAS_FK": "15",
                                    "SZOBA_SZAMA": "3",
                                    "FEROHELY": "3",
                                    "POTAGY": "0",
                                    "KLIMAS": "n"
                                },
                                {
                                    "SZALLAS_NEV": "Tímárház Panzió",
                                    "panzio-e": "Igen",
                                    "SZALLAS_FK": "15",
                                    "SZOBA_SZAMA": "4",
                                    "FEROHELY": "3",
                                    "POTAGY": "1",
                                    "KLIMAS": "i"
                                },
                                {
                                    "SZALLAS_NEV": "Tímárház Panzió",
                                    "panzio-e": "Igen",
                                    "SZALLAS_FK": "15",
                                    "SZOBA_SZAMA": "5",
                                    "FEROHELY": "3",
                                    "POTAGY": "0",
                                    "KLIMAS": "i"
                                },
                                {
                                    "SZALLAS_NEV": "Tímárház Panzió",
                                    "panzio-e": "Igen",
                                    "SZALLAS_FK": "15",
                                    "SZOBA_SZAMA": "6",
                                    "FEROHELY": "3",
                                    "POTAGY": "1",
                                    "KLIMAS": "n"
                                },
                                {
                                    "SZALLAS_NEV": "Tímárház Panzió",
                                    "panzio-e": "Igen",
                                    "SZALLAS_FK": "15",
                                    "SZOBA_SZAMA": "7",
                                    "FEROHELY": "2",
                                    "POTAGY": "2",
                                    "KLIMAS": "n"
                                },
                                {
                                    "SZALLAS_NEV": "Tímárház Panzió",
                                    "panzio-e": "Igen",
                                    "SZALLAS_FK": "15",
                                    "SZOBA_SZAMA": "8",
                                    "FEROHELY": "3",
                                    "POTAGY": "1",
                                    "KLIMAS": "i"
                                },
                                {
                                    "SZALLAS_NEV": "Tímárház Panzió",
                                    "panzio-e": "Igen",
                                    "SZALLAS_FK": "15",
                                    "SZOBA_SZAMA": "9",
                                    "FEROHELY": "2",
                                    "POTAGY": "2",
                                    "KLIMAS": "i"
                                },
                                {
                                    "SZALLAS_NEV": "Tímárház Panzió",
                                    "panzio-e": "Igen",
                                    "SZALLAS_FK": "15",
                                    "SZOBA_SZAMA": "10",
                                    "FEROHELY": "3",
                                    "POTAGY": "0",
                                    "KLIMAS": "i"
                                },
                                {
                                    "SZALLAS_NEV": "Tímárház Panzió",
                                    "panzio-e": "Igen",
                                    "SZALLAS_FK": "15",
                                    "SZOBA_SZAMA": "11",
                                    "FEROHELY": "2",
                                    "POTAGY": "0",
                                    "KLIMAS": "i"
                                },
                                {
                                    "SZALLAS_NEV": "Tímárház Panzió",
                                    "panzio-e": "Igen",
                                    "SZALLAS_FK": "15",
                                    "SZOBA_SZAMA": "12",
                                    "FEROHELY": "2",
                                    "POTAGY": "1",
                                    "KLIMAS": "i"
                                },
                                {
                                    "SZALLAS_NEV": "Bagoly Hotel",
                                    "panzio-e": "Nem",
                                    "SZALLAS_FK": "16",
                                    "SZOBA_SZAMA": "1",
                                    "FEROHELY": "2",
                                    "POTAGY": "0",
                                    "KLIMAS": "i"
                                },
                                {
                                    "SZALLAS_NEV": "Bagoly Hotel",
                                    "panzio-e": "Nem",
                                    "SZALLAS_FK": "16",
                                    "SZOBA_SZAMA": "2",
                                    "FEROHELY": "2",
                                    "POTAGY": "1",
                                    "KLIMAS": "i"
                                },
                                {
                                    "SZALLAS_NEV": "Bagoly Hotel",
                                    "panzio-e": "Nem",
                                    "SZALLAS_FK": "16",
                                    "SZOBA_SZAMA": "3",
                                    "FEROHELY": "2",
                                    "POTAGY": "1",
                                    "KLIMAS": "i"
                                },
                                {
                                    "SZALLAS_NEV": "Bagoly Hotel",
                                    "panzio-e": "Nem",
                                    "SZALLAS_FK": "16",
                                    "SZOBA_SZAMA": "4",
                                    "FEROHELY": "2",
                                    "POTAGY": "0",
                                    "KLIMAS": "i"
                                },
                                {
                                    "SZALLAS_NEV": "Bagoly Hotel",
                                    "panzio-e": "Nem",
                                    "SZALLAS_FK": "16",
                                    "SZOBA_SZAMA": "5",
                                    "FEROHELY": "2",
                                    "POTAGY": "0",
                                    "KLIMAS": "i"
                                },
                                {
                                    "SZALLAS_NEV": "Bagoly Hotel",
                                    "panzio-e": "Nem",
                                    "SZALLAS_FK": "16",
                                    "SZOBA_SZAMA": "6",
                                    "FEROHELY": "2",
                                    "POTAGY": "2",
                                    "KLIMAS": "i"
                                },
                                {
                                    "SZALLAS_NEV": "Bagoly Hotel",
                                    "panzio-e": "Nem",
                                    "SZALLAS_FK": "16",
                                    "SZOBA_SZAMA": "7",
                                    "FEROHELY": "2",
                                    "POTAGY": "1",
                                    "KLIMAS": "n"
                                },
                                {
                                    "SZALLAS_NEV": "Bagoly Hotel",
                                    "panzio-e": "Nem",
                                    "SZALLAS_FK": "16",
                                    "SZOBA_SZAMA": "8",
                                    "FEROHELY": "3",
                                    "POTAGY": "1",
                                    "KLIMAS": "n"
                                },
                                {
                                    "SZALLAS_NEV": "Bagoly Hotel",
                                    "panzio-e": "Nem",
                                    "SZALLAS_FK": "16",
                                    "SZOBA_SZAMA": "9",
                                    "FEROHELY": "3",
                                    "POTAGY": "0",
                                    "KLIMAS": "n"
                                },
                                {
                                    "SZALLAS_NEV": "Bagoly Hotel",
                                    "panzio-e": "Nem",
                                    "SZALLAS_FK": "16",
                                    "SZOBA_SZAMA": "10",
                                    "FEROHELY": "3",
                                    "POTAGY": "1",
                                    "KLIMAS": "i"
                                },
                                {
                                    "SZALLAS_NEV": "Bagoly Hotel",
                                    "panzio-e": "Nem",
                                    "SZALLAS_FK": "16",
                                    "SZOBA_SZAMA": "11",
                                    "FEROHELY": "2",
                                    "POTAGY": "0",
                                    "KLIMAS": "i"
                                },
                                {
                                    "SZALLAS_NEV": "Bagoly Hotel",
                                    "panzio-e": "Nem",
                                    "SZALLAS_FK": "16",
                                    "SZOBA_SZAMA": "12",
                                    "FEROHELY": "2",
                                    "POTAGY": "0",
                                    "KLIMAS": "i"
                                },
                                {
                                    "SZALLAS_NEV": "Bagoly Hotel",
                                    "panzio-e": "Nem",
                                    "SZALLAS_FK": "16",
                                    "SZOBA_SZAMA": "13",
                                    "FEROHELY": "3",
                                    "POTAGY": "0",
                                    "KLIMAS": "n"
                                },
                                {
                                    "SZALLAS_NEV": "Bagoly Hotel",
                                    "panzio-e": "Nem",
                                    "SZALLAS_FK": "16",
                                    "SZOBA_SZAMA": "14",
                                    "FEROHELY": "3",
                                    "POTAGY": "1",
                                    "KLIMAS": "i"
                                },
                                {
                                    "SZALLAS_NEV": "Bagoly Hotel",
                                    "panzio-e": "Nem",
                                    "SZALLAS_FK": "16",
                                    "SZOBA_SZAMA": "15",
                                    "FEROHELY": "2",
                                    "POTAGY": "0",
                                    "KLIMAS": "i"
                                },
                                {
                                    "SZALLAS_NEV": "Bagoly Hotel",
                                    "panzio-e": "Nem",
                                    "SZALLAS_FK": "16",
                                    "SZOBA_SZAMA": "16",
                                    "FEROHELY": "2",
                                    "POTAGY": "0",
                                    "KLIMAS": "i"
                                },
                                {
                                    "SZALLAS_NEV": "Bagoly Hotel",
                                    "panzio-e": "Nem",
                                    "SZALLAS_FK": "16",
                                    "SZOBA_SZAMA": "17",
                                    "FEROHELY": "2",
                                    "POTAGY": "0",
                                    "KLIMAS": "i"
                                },
                                {
                                    "SZALLAS_NEV": "Bagoly Hotel",
                                    "panzio-e": "Nem",
                                    "SZALLAS_FK": "16",
                                    "SZOBA_SZAMA": "18",
                                    "FEROHELY": "2",
                                    "POTAGY": "0",
                                    "KLIMAS": "i"
                                },
                                {
                                    "SZALLAS_NEV": "Bagoly Hotel",
                                    "panzio-e": "Nem",
                                    "SZALLAS_FK": "16",
                                    "SZOBA_SZAMA": "19",
                                    "FEROHELY": "1",
                                    "POTAGY": "1",
                                    "KLIMAS": "n"
                                },
                                {
                                    "SZALLAS_NEV": "Bagoly Hotel",
                                    "panzio-e": "Nem",
                                    "SZALLAS_FK": "16",
                                    "SZOBA_SZAMA": "20",
                                    "FEROHELY": "1",
                                    "POTAGY": "0",
                                    "KLIMAS": "n"
                                },
                                {
                                    "SZALLAS_NEV": "Szarvas Hotel",
                                    "panzio-e": "Nem",
                                    "SZALLAS_FK": "17",
                                    "SZOBA_SZAMA": "1",
                                    "FEROHELY": "2",
                                    "POTAGY": "2",
                                    "KLIMAS": "i"
                                },
                                {
                                    "SZALLAS_NEV": "Szarvas Hotel",
                                    "panzio-e": "Nem",
                                    "SZALLAS_FK": "17",
                                    "SZOBA_SZAMA": "2",
                                    "FEROHELY": "3",
                                    "POTAGY": "0",
                                    "KLIMAS": "i"
                                },
                                {
                                    "SZALLAS_NEV": "Szarvas Hotel",
                                    "panzio-e": "Nem",
                                    "SZALLAS_FK": "17",
                                    "SZOBA_SZAMA": "3",
                                    "FEROHELY": "3",
                                    "POTAGY": "0",
                                    "KLIMAS": "i"
                                },
                                {
                                    "SZALLAS_NEV": "Szarvas Hotel",
                                    "panzio-e": "Nem",
                                    "SZALLAS_FK": "17",
                                    "SZOBA_SZAMA": "4",
                                    "FEROHELY": "2",
                                    "POTAGY": "1",
                                    "KLIMAS": "i"
                                },
                                {
                                    "SZALLAS_NEV": "Szarvas Hotel",
                                    "panzio-e": "Nem",
                                    "SZALLAS_FK": "17",
                                    "SZOBA_SZAMA": "5",
                                    "FEROHELY": "2",
                                    "POTAGY": "1",
                                    "KLIMAS": "n"
                                },
                                {
                                    "SZALLAS_NEV": "Szarvas Hotel",
                                    "panzio-e": "Nem",
                                    "SZALLAS_FK": "17",
                                    "SZOBA_SZAMA": "6",
                                    "FEROHELY": "2",
                                    "POTAGY": "2",
                                    "KLIMAS": "n"
                                },
                                {
                                    "SZALLAS_NEV": "Szarvas Hotel",
                                    "panzio-e": "Nem",
                                    "SZALLAS_FK": "17",
                                    "SZOBA_SZAMA": "7",
                                    "FEROHELY": "2",
                                    "POTAGY": "1",
                                    "KLIMAS": "i"
                                },
                                {
                                    "SZALLAS_NEV": "Szarvas Hotel",
                                    "panzio-e": "Nem",
                                    "SZALLAS_FK": "17",
                                    "SZOBA_SZAMA": "8",
                                    "FEROHELY": "3",
                                    "POTAGY": "0",
                                    "KLIMAS": "n"
                                },
                                {
                                    "SZALLAS_NEV": "Szarvas Hotel",
                                    "panzio-e": "Nem",
                                    "SZALLAS_FK": "17",
                                    "SZOBA_SZAMA": "9",
                                    "FEROHELY": "3",
                                    "POTAGY": "0",
                                    "KLIMAS": "i"
                                },
                                {
                                    "SZALLAS_NEV": "Szarvas Hotel",
                                    "panzio-e": "Nem",
                                    "SZALLAS_FK": "17",
                                    "SZOBA_SZAMA": "10",
                                    "FEROHELY": "3",
                                    "POTAGY": "0",
                                    "KLIMAS": "i"
                                },
                                {
                                    "SZALLAS_NEV": "Szarvas Hotel",
                                    "panzio-e": "Nem",
                                    "SZALLAS_FK": "17",
                                    "SZOBA_SZAMA": "11",
                                    "FEROHELY": "2",
                                    "POTAGY": "1",
                                    "KLIMAS": "i"
                                },
                                {
                                    "SZALLAS_NEV": "Szarvas Hotel",
                                    "panzio-e": "Nem",
                                    "SZALLAS_FK": "17",
                                    "SZOBA_SZAMA": "12",
                                    "FEROHELY": "3",
                                    "POTAGY": "1",
                                    "KLIMAS": "i"
                                },
                                {
                                    "SZALLAS_NEV": "Szarvas Hotel",
                                    "panzio-e": "Nem",
                                    "SZALLAS_FK": "17",
                                    "SZOBA_SZAMA": "13",
                                    "FEROHELY": "2",
                                    "POTAGY": "1",
                                    "KLIMAS": "n"
                                },
                                {
                                    "SZALLAS_NEV": "Szarvas Hotel",
                                    "panzio-e": "Nem",
                                    "SZALLAS_FK": "17",
                                    "SZOBA_SZAMA": "14",
                                    "FEROHELY": "2",
                                    "POTAGY": "0",
                                    "KLIMAS": "i"
                                },
                                {
                                    "SZALLAS_NEV": "Szarvas Hotel",
                                    "panzio-e": "Nem",
                                    "SZALLAS_FK": "17",
                                    "SZOBA_SZAMA": "15",
                                    "FEROHELY": "2",
                                    "POTAGY": "0",
                                    "KLIMAS": "i"
                                },
                                {
                                    "SZALLAS_NEV": "Fortuna Apartman",
                                    "panzio-e": "Nem",
                                    "SZALLAS_FK": "18",
                                    "SZOBA_SZAMA": "1",
                                    "FEROHELY": "3",
                                    "POTAGY": "1",
                                    "KLIMAS": "i"
                                },
                                {
                                    "SZALLAS_NEV": "Fortuna Apartman",
                                    "panzio-e": "Nem",
                                    "SZALLAS_FK": "18",
                                    "SZOBA_SZAMA": "2",
                                    "FEROHELY": "2",
                                    "POTAGY": "1",
                                    "KLIMAS": "i"
                                },
                                {
                                    "SZALLAS_NEV": "Fortuna Apartman",
                                    "panzio-e": "Nem",
                                    "SZALLAS_FK": "18",
                                    "SZOBA_SZAMA": "3",
                                    "FEROHELY": "3",
                                    "POTAGY": "0",
                                    "KLIMAS": "n"
                                },
                                {
                                    "SZALLAS_NEV": "Nyárfás Vendégház",
                                    "panzio-e": "Nem",
                                    "SZALLAS_FK": "19",
                                    "SZOBA_SZAMA": "1",
                                    "FEROHELY": "2",
                                    "POTAGY": "0",
                                    "KLIMAS": "n"
                                },
                                {
                                    "SZALLAS_NEV": "Nyárfás Vendégház",
                                    "panzio-e": "Nem",
                                    "SZALLAS_FK": "19",
                                    "SZOBA_SZAMA": "2",
                                    "FEROHELY": "2",
                                    "POTAGY": "0",
                                    "KLIMAS": "i"
                                },
                                {
                                    "SZALLAS_NEV": "Nyárfás Vendégház",
                                    "panzio-e": "Nem",
                                    "SZALLAS_FK": "19",
                                    "SZOBA_SZAMA": "3",
                                    "FEROHELY": "2",
                                    "POTAGY": "0",
                                    "KLIMAS": "n"
                                },
                                {
                                    "SZALLAS_NEV": "Nyárfás Vendégház",
                                    "panzio-e": "Nem",
                                    "SZALLAS_FK": "19",
                                    "SZOBA_SZAMA": "4",
                                    "FEROHELY": "2",
                                    "POTAGY": "2",
                                    "KLIMAS": "i"
                                },
                                {
                                    "SZALLAS_NEV": "Kollégium",
                                    "panzio-e": "Nem",
                                    "SZALLAS_FK": "20",
                                    "SZOBA_SZAMA": "1",
                                    "FEROHELY": "2",
                                    "POTAGY": "1",
                                    "KLIMAS": "i"
                                },
                                {
                                    "SZALLAS_NEV": "Kollégium",
                                    "panzio-e": "Nem",
                                    "SZALLAS_FK": "20",
                                    "SZOBA_SZAMA": "2",
                                    "FEROHELY": "3",
                                    "POTAGY": "0",
                                    "KLIMAS": "i"
                                },
                                {
                                    "SZALLAS_NEV": "Kollégium",
                                    "panzio-e": "Nem",
                                    "SZALLAS_FK": "20",
                                    "SZOBA_SZAMA": "3",
                                    "FEROHELY": "3",
                                    "POTAGY": "0",
                                    "KLIMAS": "n"
                                },
                                {
                                    "SZALLAS_NEV": "Kollégium",
                                    "panzio-e": "Nem",
                                    "SZALLAS_FK": "20",
                                    "SZOBA_SZAMA": "4",
                                    "FEROHELY": "2",
                                    "POTAGY": "1",
                                    "KLIMAS": "i"
                                },
                                {
                                    "SZALLAS_NEV": "Kollégium",
                                    "panzio-e": "Nem",
                                    "SZALLAS_FK": "20",
                                    "SZOBA_SZAMA": "5",
                                    "FEROHELY": "3",
                                    "POTAGY": "0",
                                    "KLIMAS": "i"
                                },
                                {
                                    "SZALLAS_NEV": "Kollégium",
                                    "panzio-e": "Nem",
                                    "SZALLAS_FK": "20",
                                    "SZOBA_SZAMA": "6",
                                    "FEROHELY": "2",
                                    "POTAGY": "1",
                                    "KLIMAS": "i"
                                },
                                {
                                    "SZALLAS_NEV": "Kollégium",
                                    "panzio-e": "Nem",
                                    "SZALLAS_FK": "20",
                                    "SZOBA_SZAMA": "7",
                                    "FEROHELY": "2",
                                    "POTAGY": "1",
                                    "KLIMAS": "i"
                                },
                                {
                                    "SZALLAS_NEV": "Kollégium",
                                    "panzio-e": "Nem",
                                    "SZALLAS_FK": "20",
                                    "SZOBA_SZAMA": "8",
                                    "FEROHELY": "2",
                                    "POTAGY": "1",
                                    "KLIMAS": "i"
                                },
                                {
                                    "SZALLAS_NEV": "Kollégium",
                                    "panzio-e": "Nem",
                                    "SZALLAS_FK": "20",
                                    "SZOBA_SZAMA": "9",
                                    "FEROHELY": "2",
                                    "POTAGY": "1",
                                    "KLIMAS": "i"
                                },
                                {
                                    "SZALLAS_NEV": "Kollégium",
                                    "panzio-e": "Nem",
                                    "SZALLAS_FK": "20",
                                    "SZOBA_SZAMA": "10",
                                    "FEROHELY": "3",
                                    "POTAGY": "0",
                                    "KLIMAS": "i"
                                }
                            ]
                        },
                        "text/html": [
                            "<table>",
                            "<tr><th>SZALLAS_NEV</th><th>panzio-e</th><th>SZALLAS_FK</th><th>SZOBA_SZAMA</th><th>FEROHELY</th><th>POTAGY</th><th>KLIMAS</th></tr>",
                            "<tr><td>Sába-Ház</td><td>Nem</td><td>1</td><td>1</td><td>3</td><td>0</td><td>n</td></tr>",
                            "<tr><td>Sába-Ház</td><td>Nem</td><td>1</td><td>2</td><td>3</td><td>1</td><td>i</td></tr>",
                            "<tr><td>Sába-Ház</td><td>Nem</td><td>1</td><td>3</td><td>3</td><td>1</td><td>i</td></tr>",
                            "<tr><td>Sába-Ház</td><td>Nem</td><td>1</td><td>4</td><td>2</td><td>1</td><td>i</td></tr>",
                            "<tr><td>Sába-Ház</td><td>Nem</td><td>1</td><td>5</td><td>2</td><td>0</td><td>i</td></tr>",
                            "<tr><td>Sába-Ház</td><td>Nem</td><td>1</td><td>6</td><td>3</td><td>0</td><td>i</td></tr>",
                            "<tr><td>Sába-Ház</td><td>Nem</td><td>1</td><td>7</td><td>2</td><td>0</td><td>i</td></tr>",
                            "<tr><td>Sába-Ház</td><td>Nem</td><td>1</td><td>8</td><td>3</td><td>0</td><td>n</td></tr>",
                            "<tr><td>Sába-Ház</td><td>Nem</td><td>1</td><td>9</td><td>3</td><td>1</td><td>i</td></tr>",
                            "<tr><td>Sába-Ház</td><td>Nem</td><td>1</td><td>10</td><td>3</td><td>0</td><td>i</td></tr>",
                            "<tr><td>Sába-Ház</td><td>Nem</td><td>1</td><td>11</td><td>2</td><td>1</td><td>i</td></tr>",
                            "<tr><td>Sába-Ház</td><td>Nem</td><td>1</td><td>12</td><td>2</td><td>1</td><td>i</td></tr>",
                            "<tr><td>Családi Ház</td><td>Nem</td><td>2</td><td>1</td><td>3</td><td>0</td><td>i</td></tr>",
                            "<tr><td>Családi Ház</td><td>Nem</td><td>2</td><td>2</td><td>3</td><td>2</td><td>i</td></tr>",
                            "<tr><td>Családi Ház</td><td>Nem</td><td>2</td><td>3</td><td>2</td><td>1</td><td>i</td></tr>",
                            "<tr><td>Családi Ház</td><td>Nem</td><td>2</td><td>4</td><td>3</td><td>1</td><td>i</td></tr>",
                            "<tr><td>Fortuna Apartman</td><td>Nem</td><td>3</td><td>1</td><td>3</td><td>1</td><td>i</td></tr>",
                            "<tr><td>Fortuna Apartman</td><td>Nem</td><td>3</td><td>2</td><td>3</td><td>2</td><td>n</td></tr>",
                            "<tr><td>Fortuna Apartman</td><td>Nem</td><td>3</td><td>3</td><td>2</td><td>1</td><td>i</td></tr>",
                            "<tr><td>Fortuna Apartman</td><td>Nem</td><td>3</td><td>4</td><td>3</td><td>0</td><td>i</td></tr>",
                            "<tr><td>Fortuna Apartman</td><td>Nem</td><td>3</td><td>5</td><td>2</td><td>1</td><td>i</td></tr>",
                            "<tr><td>Fortuna Apartman</td><td>Nem</td><td>3</td><td>6</td><td>3</td><td>2</td><td>n</td></tr>",
                            "<tr><td>Fortuna Apartman</td><td>Nem</td><td>3</td><td>7</td><td>2</td><td>0</td><td>n</td></tr>",
                            "<tr><td>Fortuna Apartman</td><td>Nem</td><td>3</td><td>8</td><td>4</td><td>1</td><td>i</td></tr>",
                            "<tr><td>Fortuna panzió</td><td>Igen</td><td>4</td><td>1</td><td>3</td><td>1</td><td>n</td></tr>",
                            "<tr><td>Fortuna panzió</td><td>Igen</td><td>4</td><td>2</td><td>2</td><td>1</td><td>i</td></tr>",
                            "<tr><td>Fortuna panzió</td><td>Igen</td><td>4</td><td>3</td><td>3</td><td>1</td><td>n</td></tr>",
                            "<tr><td>Fortuna panzió</td><td>Igen</td><td>4</td><td>4</td><td>2</td><td>1</td><td>i</td></tr>",
                            "<tr><td>Fortuna panzió</td><td>Igen</td><td>4</td><td>5</td><td>2</td><td>0</td><td>n</td></tr>",
                            "<tr><td>Fortuna panzió</td><td>Igen</td><td>4</td><td>6</td><td>3</td><td>1</td><td>i</td></tr>",
                            "<tr><td>Fortuna panzió</td><td>Igen</td><td>4</td><td>7</td><td>3</td><td>1</td><td>i</td></tr>",
                            "<tr><td>Fortuna panzió</td><td>Igen</td><td>4</td><td>8</td><td>2</td><td>0</td><td>i</td></tr>",
                            "<tr><td>Fortuna panzió</td><td>Igen</td><td>4</td><td>9</td><td>2</td><td>2</td><td>i</td></tr>",
                            "<tr><td>Fortuna panzió</td><td>Igen</td><td>4</td><td>10</td><td>3</td><td>1</td><td>i</td></tr>",
                            "<tr><td>Fortuna panzió</td><td>Igen</td><td>4</td><td>11</td><td>3</td><td>0</td><td>i</td></tr>",
                            "<tr><td>Fortuna panzió</td><td>Igen</td><td>4</td><td>12</td><td>3</td><td>2</td><td>i</td></tr>",
                            "<tr><td>Fortuna panzió</td><td>Igen</td><td>4</td><td>13</td><td>2</td><td>1</td><td>i</td></tr>",
                            "<tr><td>Fortuna panzió</td><td>Igen</td><td>4</td><td>14</td><td>2</td><td>1</td><td>i</td></tr>",
                            "<tr><td>Fortuna panzió</td><td>Igen</td><td>4</td><td>15</td><td>2</td><td>0</td><td>i</td></tr>",
                            "<tr><td>Fortuna Panzió</td><td>Igen</td><td>5</td><td>1</td><td>3</td><td>0</td><td>i</td></tr>",
                            "<tr><td>Fortuna Panzió</td><td>Igen</td><td>5</td><td>2</td><td>3</td><td>0</td><td>n</td></tr>",
                            "<tr><td>Fortuna Panzió</td><td>Igen</td><td>5</td><td>3</td><td>2</td><td>1</td><td>i</td></tr>",
                            "<tr><td>Fortuna Panzió</td><td>Igen</td><td>5</td><td>4</td><td>3</td><td>0</td><td>i</td></tr>",
                            "<tr><td>Fortuna Panzió</td><td>Igen</td><td>5</td><td>5</td><td>3</td><td>0</td><td>i</td></tr>",
                            "<tr><td>Fortuna Panzió</td><td>Igen</td><td>5</td><td>6</td><td>2</td><td>0</td><td>n</td></tr>",
                            "<tr><td>Fortuna Panzió</td><td>Igen</td><td>5</td><td>7</td><td>3</td><td>0</td><td>i</td></tr>",
                            "<tr><td>Fortuna Panzió</td><td>Igen</td><td>5</td><td>8</td><td>2</td><td>0</td><td>i</td></tr>",
                            "<tr><td>Fortuna Panzió</td><td>Igen</td><td>5</td><td>9</td><td>3</td><td>0</td><td>i</td></tr>",
                            "<tr><td>Fortuna Panzió</td><td>Igen</td><td>5</td><td>10</td><td>3</td><td>0</td><td>i</td></tr>",
                            "<tr><td>Kentaur Hotel</td><td>Nem</td><td>6</td><td>1</td><td>2</td><td>0</td><td>n</td></tr>",
                            "<tr><td>Kentaur Hotel</td><td>Nem</td><td>6</td><td>2</td><td>3</td><td>1</td><td>i</td></tr>",
                            "<tr><td>Kentaur Hotel</td><td>Nem</td><td>6</td><td>3</td><td>2</td><td>1</td><td>i</td></tr>",
                            "<tr><td>Kentaur Hotel</td><td>Nem</td><td>6</td><td>4</td><td>2</td><td>1</td><td>i</td></tr>",
                            "<tr><td>Kentaur Hotel</td><td>Nem</td><td>6</td><td>5</td><td>3</td><td>0</td><td>n</td></tr>",
                            "<tr><td>Kentaur Hotel</td><td>Nem</td><td>6</td><td>6</td><td>2</td><td>1</td><td>i</td></tr>",
                            "<tr><td>Kentaur Hotel</td><td>Nem</td><td>6</td><td>7</td><td>2</td><td>0</td><td>i</td></tr>",
                            "<tr><td>Kentaur Hotel</td><td>Nem</td><td>6</td><td>8</td><td>2</td><td>0</td><td>n</td></tr>",
                            "<tr><td>Kentaur Hotel</td><td>Nem</td><td>6</td><td>9</td><td>2</td><td>1</td><td>i</td></tr>",
                            "<tr><td>Kentaur Hotel</td><td>Nem</td><td>6</td><td>10</td><td>2</td><td>1</td><td>n</td></tr>",
                            "<tr><td>Kentaur Hotel</td><td>Nem</td><td>6</td><td>11</td><td>3</td><td>0</td><td>i</td></tr>",
                            "<tr><td>Kentaur Hotel</td><td>Nem</td><td>6</td><td>12</td><td>3</td><td>0</td><td>i</td></tr>",
                            "<tr><td>Kentaur Hotel</td><td>Nem</td><td>6</td><td>13</td><td>2</td><td>0</td><td>n</td></tr>",
                            "<tr><td>Kentaur Hotel</td><td>Nem</td><td>6</td><td>14</td><td>2</td><td>0</td><td>n</td></tr>",
                            "<tr><td>Kentaur Hotel</td><td>Nem</td><td>6</td><td>15</td><td>2</td><td>0</td><td>i</td></tr>",
                            "<tr><td>Kentaur Hotel</td><td>Nem</td><td>6</td><td>16</td><td>2</td><td>0</td><td>n</td></tr>",
                            "<tr><td>Kentaur Hotel</td><td>Nem</td><td>6</td><td>17</td><td>3</td><td>0</td><td>n</td></tr>",
                            "<tr><td>Kentaur Hotel</td><td>Nem</td><td>6</td><td>18</td><td>2</td><td>2</td><td>i</td></tr>",
                            "<tr><td>Kentaur Hotel</td><td>Nem</td><td>6</td><td>19</td><td>2</td><td>2</td><td>i</td></tr>",
                            "<tr><td>Kentaur Hotel</td><td>Nem</td><td>6</td><td>20</td><td>3</td><td>1</td><td>n</td></tr>",
                            "<tr><td>Kentaur Hotel</td><td>Nem</td><td>6</td><td>21</td><td>2</td><td>1</td><td>i</td></tr>",
                            "<tr><td>Kentaur Hotel</td><td>Nem</td><td>6</td><td>22</td><td>3</td><td>0</td><td>i</td></tr>",
                            "<tr><td>Kentaur Hotel</td><td>Nem</td><td>6</td><td>23</td><td>2</td><td>0</td><td>n</td></tr>",
                            "<tr><td>Kentaur Hotel</td><td>Nem</td><td>6</td><td>24</td><td>2</td><td>1</td><td>i</td></tr>",
                            "<tr><td>Kentaur Hotel</td><td>Nem</td><td>6</td><td>25</td><td>3</td><td>1</td><td>n</td></tr>",
                            "<tr><td>Kentaur Hotel</td><td>Nem</td><td>6</td><td>26</td><td>2</td><td>1</td><td>n</td></tr>",
                            "<tr><td>Kentaur Hotel</td><td>Nem</td><td>6</td><td>27</td><td>2</td><td>0</td><td>i</td></tr>",
                            "<tr><td>Kentaur Hotel</td><td>Nem</td><td>6</td><td>28</td><td>3</td><td>1</td><td>i</td></tr>",
                            "<tr><td>Kentaur Hotel</td><td>Nem</td><td>6</td><td>29</td><td>2</td><td>1</td><td>n</td></tr>",
                            "<tr><td>Kentaur Hotel</td><td>Nem</td><td>6</td><td>30</td><td>3</td><td>0</td><td>i</td></tr>",
                            "<tr><td>Kentaur Hotel</td><td>Nem</td><td>6</td><td>31</td><td>2</td><td>1</td><td>i</td></tr>",
                            "<tr><td>Kentaur Hotel</td><td>Nem</td><td>6</td><td>32</td><td>2</td><td>0</td><td>i</td></tr>",
                            "<tr><td>Kentaur Hotel</td><td>Nem</td><td>6</td><td>33</td><td>3</td><td>0</td><td>i</td></tr>",
                            "<tr><td>Kentaur Hotel</td><td>Nem</td><td>6</td><td>34</td><td>3</td><td>0</td><td>i</td></tr>",
                            "<tr><td>Kentaur Hotel</td><td>Nem</td><td>6</td><td>35</td><td>3</td><td>0</td><td>i</td></tr>",
                            "<tr><td>Szieszta Apartmanház</td><td>Nem</td><td>7</td><td>1</td><td>2</td><td>1</td><td>n</td></tr>",
                            "<tr><td>Szieszta Apartmanház</td><td>Nem</td><td>7</td><td>2</td><td>2</td><td>1</td><td>i</td></tr>",
                            "<tr><td>Szieszta Apartmanház</td><td>Nem</td><td>7</td><td>3</td><td>3</td><td>0</td><td>i</td></tr>",
                            "<tr><td>Szieszta Apartmanház</td><td>Nem</td><td>7</td><td>4</td><td>3</td><td>0</td><td>n</td></tr>",
                            "<tr><td>Szieszta Apartmanház</td><td>Nem</td><td>7</td><td>5</td><td>3</td><td>0</td><td>i</td></tr>",
                            "<tr><td>Szieszta Apartmanház</td><td>Nem</td><td>7</td><td>6</td><td>3</td><td>0</td><td>i</td></tr>",
                            "<tr><td>Hotel Három Hattyú</td><td>Nem</td><td>8</td><td>1</td><td>2</td><td>0</td><td>n</td></tr>",
                            "<tr><td>Hotel Három Hattyú</td><td>Nem</td><td>8</td><td>2</td><td>3</td><td>1</td><td>i</td></tr>",
                            "<tr><td>Hotel Három Hattyú</td><td>Nem</td><td>8</td><td>3</td><td>3</td><td>2</td><td>i</td></tr>",
                            "<tr><td>Hotel Három Hattyú</td><td>Nem</td><td>8</td><td>4</td><td>2</td><td>0</td><td>n</td></tr>",
                            "<tr><td>Hotel Három Hattyú</td><td>Nem</td><td>8</td><td>5</td><td>3</td><td>1</td><td>i</td></tr>",
                            "<tr><td>Hotel Három Hattyú</td><td>Nem</td><td>8</td><td>6</td><td>3</td><td>0</td><td>n</td></tr>",
                            "<tr><td>Hotel Három Hattyú</td><td>Nem</td><td>8</td><td>7</td><td>3</td><td>2</td><td>n</td></tr>",
                            "<tr><td>Hotel Három Hattyú</td><td>Nem</td><td>8</td><td>8</td><td>2</td><td>0</td><td>n</td></tr>",
                            "<tr><td>Hotel Három Hattyú</td><td>Nem</td><td>8</td><td>9</td><td>2</td><td>0</td><td>n</td></tr>",
                            "<tr><td>Hotel Három Hattyú</td><td>Nem</td><td>8</td><td>10</td><td>2</td><td>1</td><td>i</td></tr>",
                            "<tr><td>Hotel Három Hattyú</td><td>Nem</td><td>8</td><td>11</td><td>2</td><td>0</td><td>i</td></tr>",
                            "<tr><td>Hotel Három Hattyú</td><td>Nem</td><td>8</td><td>12</td><td>2</td><td>1</td><td>i</td></tr>",
                            "<tr><td>Hotel Három Hattyú</td><td>Nem</td><td>8</td><td>13</td><td>2</td><td>1</td><td>i</td></tr>",
                            "<tr><td>Hotel Három Hattyú</td><td>Nem</td><td>8</td><td>14</td><td>3</td><td>0</td><td>i</td></tr>",
                            "<tr><td>Hotel Három Hattyú</td><td>Nem</td><td>8</td><td>15</td><td>2</td><td>0</td><td>i</td></tr>",
                            "<tr><td>Hotel Három Hattyú</td><td>Nem</td><td>8</td><td>16</td><td>2</td><td>0</td><td>i</td></tr>",
                            "<tr><td>Hotel Három Hattyú</td><td>Nem</td><td>8</td><td>17</td><td>2</td><td>1</td><td>n</td></tr>",
                            "<tr><td>Hotel Három Hattyú</td><td>Nem</td><td>8</td><td>18</td><td>2</td><td>0</td><td>i</td></tr>",
                            "<tr><td>Hotel Három Hattyú</td><td>Nem</td><td>8</td><td>19</td><td>2</td><td>1</td><td>i</td></tr>",
                            "<tr><td>Hotel Három Hattyú</td><td>Nem</td><td>8</td><td>20</td><td>2</td><td>0</td><td>i</td></tr>",
                            "<tr><td>Hotel Három Hattyú</td><td>Nem</td><td>8</td><td>21</td><td>2</td><td>1</td><td>i</td></tr>",
                            "<tr><td>Hotel Három Hattyú</td><td>Nem</td><td>8</td><td>22</td><td>3</td><td>0</td><td>i</td></tr>",
                            "<tr><td>Hotel Három Hattyú</td><td>Nem</td><td>8</td><td>23</td><td>3</td><td>2</td><td>i</td></tr>",
                            "<tr><td>Hotel Három Hattyú</td><td>Nem</td><td>8</td><td>24</td><td>2</td><td>1</td><td>n</td></tr>",
                            "<tr><td>Hotel Három Hattyú</td><td>Nem</td><td>8</td><td>25</td><td>3</td><td>0</td><td>i</td></tr>",
                            "<tr><td>Hotel Három Hattyú</td><td>Nem</td><td>8</td><td>26</td><td>3</td><td>0</td><td>i</td></tr>",
                            "<tr><td>Hotel Három Hattyú</td><td>Nem</td><td>8</td><td>27</td><td>3</td><td>1</td><td>i</td></tr>",
                            "<tr><td>Hotel Három Hattyú</td><td>Nem</td><td>8</td><td>28</td><td>2</td><td>1</td><td>i</td></tr>",
                            "<tr><td>Hotel Három Hattyú</td><td>Nem</td><td>8</td><td>29</td><td>2</td><td>0</td><td>i</td></tr>",
                            "<tr><td>Hotel Három Hattyú</td><td>Nem</td><td>8</td><td>30</td><td>3</td><td>1</td><td>i</td></tr>",
                            "<tr><td>Hotel Három Hattyú</td><td>Nem</td><td>8</td><td>31</td><td>2</td><td>1</td><td>i</td></tr>",
                            "<tr><td>Hotel Három Hattyú</td><td>Nem</td><td>8</td><td>32</td><td>3</td><td>1</td><td>i</td></tr>",
                            "<tr><td>Hotel Három Hattyú</td><td>Nem</td><td>8</td><td>33</td><td>3</td><td>0</td><td>n</td></tr>",
                            "<tr><td>Hotel Három Hattyú</td><td>Nem</td><td>8</td><td>34</td><td>3</td><td>0</td><td>n</td></tr>",
                            "<tr><td>Hotel Három Hattyú</td><td>Nem</td><td>8</td><td>35</td><td>2</td><td>1</td><td>i</td></tr>",
                            "<tr><td>Hotel Három Hattyú</td><td>Nem</td><td>8</td><td>36</td><td>2</td><td>1</td><td>n</td></tr>",
                            "<tr><td>Hotel Három Hattyú</td><td>Nem</td><td>8</td><td>37</td><td>2</td><td>1</td><td>i</td></tr>",
                            "<tr><td>Hotel Három Hattyú</td><td>Nem</td><td>8</td><td>38</td><td>2</td><td>1</td><td>i</td></tr>",
                            "<tr><td>Hotel Három Hattyú</td><td>Nem</td><td>8</td><td>39</td><td>2</td><td>1</td><td>i</td></tr>",
                            "<tr><td>Jáde panzió</td><td>Igen</td><td>9</td><td>1</td><td>2</td><td>0</td><td>n</td></tr>",
                            "<tr><td>Jáde panzió</td><td>Igen</td><td>9</td><td>2</td><td>2</td><td>0</td><td>n</td></tr>",
                            "<tr><td>Jáde panzió</td><td>Igen</td><td>9</td><td>3</td><td>3</td><td>0</td><td>i</td></tr>",
                            "<tr><td>Jáde panzió</td><td>Igen</td><td>9</td><td>4</td><td>3</td><td>0</td><td>n</td></tr>",
                            "<tr><td>Jáde panzió</td><td>Igen</td><td>9</td><td>5</td><td>3</td><td>0</td><td>i</td></tr>",
                            "<tr><td>Lagúna Hotel</td><td>Nem</td><td>10</td><td>1</td><td>3</td><td>0</td><td>i</td></tr>",
                            "<tr><td>Lagúna Hotel</td><td>Nem</td><td>10</td><td>2</td><td>2</td><td>0</td><td>n</td></tr>",
                            "<tr><td>Lagúna Hotel</td><td>Nem</td><td>10</td><td>3</td><td>2</td><td>1</td><td>i</td></tr>",
                            "<tr><td>Lagúna Hotel</td><td>Nem</td><td>10</td><td>4</td><td>3</td><td>1</td><td>i</td></tr>",
                            "<tr><td>Lagúna Hotel</td><td>Nem</td><td>10</td><td>5</td><td>2</td><td>1</td><td>i</td></tr>",
                            "<tr><td>Lagúna Hotel</td><td>Nem</td><td>10</td><td>6</td><td>2</td><td>1</td><td>i</td></tr>",
                            "<tr><td>Lagúna Hotel</td><td>Nem</td><td>10</td><td>7</td><td>2</td><td>0</td><td>n</td></tr>",
                            "<tr><td>Lagúna Hotel</td><td>Nem</td><td>10</td><td>8</td><td>3</td><td>0</td><td>n</td></tr>",
                            "<tr><td>Lagúna Hotel</td><td>Nem</td><td>10</td><td>9</td><td>3</td><td>1</td><td>i</td></tr>",
                            "<tr><td>Lagúna Hotel</td><td>Nem</td><td>10</td><td>10</td><td>3</td><td>1</td><td>n</td></tr>",
                            "<tr><td>Lagúna Hotel</td><td>Nem</td><td>10</td><td>11</td><td>2</td><td>2</td><td>i</td></tr>",
                            "<tr><td>Lagúna Hotel</td><td>Nem</td><td>10</td><td>12</td><td>3</td><td>0</td><td>i</td></tr>",
                            "<tr><td>Lagúna Hotel</td><td>Nem</td><td>10</td><td>13</td><td>2</td><td>0</td><td>i</td></tr>",
                            "<tr><td>Lagúna Hotel</td><td>Nem</td><td>10</td><td>14</td><td>2</td><td>0</td><td>i</td></tr>",
                            "<tr><td>Lagúna Hotel</td><td>Nem</td><td>10</td><td>15</td><td>2</td><td>0</td><td>i</td></tr>",
                            "<tr><td>Lagúna Hotel</td><td>Nem</td><td>10</td><td>16</td><td>2</td><td>1</td><td>i</td></tr>",
                            "<tr><td>Lagúna Hotel</td><td>Nem</td><td>10</td><td>17</td><td>2</td><td>0</td><td>n</td></tr>",
                            "<tr><td>Lagúna Hotel</td><td>Nem</td><td>10</td><td>18</td><td>2</td><td>0</td><td>i</td></tr>",
                            "<tr><td>Lagúna Hotel</td><td>Nem</td><td>10</td><td>19</td><td>3</td><td>0</td><td>n</td></tr>",
                            "<tr><td>Lagúna Hotel</td><td>Nem</td><td>10</td><td>20</td><td>2</td><td>1</td><td>i</td></tr>",
                            "<tr><td>Lagúna Hotel</td><td>Nem</td><td>10</td><td>21</td><td>3</td><td>1</td><td>n</td></tr>",
                            "<tr><td>Lagúna Hotel</td><td>Nem</td><td>10</td><td>22</td><td>2</td><td>2</td><td>i</td></tr>",
                            "<tr><td>Lagúna Hotel</td><td>Nem</td><td>10</td><td>23</td><td>2</td><td>0</td><td>n</td></tr>",
                            "<tr><td>Lagúna Hotel</td><td>Nem</td><td>10</td><td>24</td><td>2</td><td>1</td><td>n</td></tr>",
                            "<tr><td>Lagúna Hotel</td><td>Nem</td><td>10</td><td>25</td><td>3</td><td>1</td><td>n</td></tr>",
                            "<tr><td>Partiszél Vendégház</td><td>Nem</td><td>11</td><td>1</td><td>3</td><td>1</td><td>i</td></tr>",
                            "<tr><td>Partiszél Vendégház</td><td>Nem</td><td>11</td><td>2</td><td>2</td><td>2</td><td>i</td></tr>",
                            "<tr><td>Partiszél Vendégház</td><td>Nem</td><td>11</td><td>3</td><td>3</td><td>0</td><td>n</td></tr>",
                            "<tr><td>Partiszél Vendégház</td><td>Nem</td><td>11</td><td>4</td><td>2</td><td>0</td><td>i</td></tr>",
                            "<tr><td>Partiszél Vendégház</td><td>Nem</td><td>11</td><td>5</td><td>2</td><td>0</td><td>i</td></tr>",
                            "<tr><td>Gold Hotel</td><td>Nem</td><td>12</td><td>1</td><td>2</td><td>0</td><td>n</td></tr>",
                            "<tr><td>Gold Hotel</td><td>Nem</td><td>12</td><td>2</td><td>2</td><td>1</td><td>i</td></tr>",
                            "<tr><td>Gold Hotel</td><td>Nem</td><td>12</td><td>3</td><td>3</td><td>0</td><td>i</td></tr>",
                            "<tr><td>Gold Hotel</td><td>Nem</td><td>12</td><td>4</td><td>2</td><td>2</td><td>i</td></tr>",
                            "<tr><td>Gold Hotel</td><td>Nem</td><td>12</td><td>5</td><td>2</td><td>1</td><td>i</td></tr>",
                            "<tr><td>Gold Hotel</td><td>Nem</td><td>12</td><td>6</td><td>2</td><td>0</td><td>i</td></tr>",
                            "<tr><td>Gold Hotel</td><td>Nem</td><td>12</td><td>7</td><td>2</td><td>1</td><td>i</td></tr>",
                            "<tr><td>Gold Hotel</td><td>Nem</td><td>12</td><td>8</td><td>2</td><td>2</td><td>n</td></tr>",
                            "<tr><td>Gold Hotel</td><td>Nem</td><td>12</td><td>9</td><td>2</td><td>0</td><td>i</td></tr>",
                            "<tr><td>Gold Hotel</td><td>Nem</td><td>12</td><td>10</td><td>2</td><td>0</td><td>i</td></tr>",
                            "<tr><td>Gold Hotel</td><td>Nem</td><td>12</td><td>11</td><td>2</td><td>0</td><td>i</td></tr>",
                            "<tr><td>Gold Hotel</td><td>Nem</td><td>12</td><td>12</td><td>3</td><td>1</td><td>i</td></tr>",
                            "<tr><td>Gold Hotel</td><td>Nem</td><td>12</td><td>13</td><td>3</td><td>2</td><td>i</td></tr>",
                            "<tr><td>Gold Hotel</td><td>Nem</td><td>12</td><td>14</td><td>3</td><td>0</td><td>i</td></tr>",
                            "<tr><td>Gold Hotel</td><td>Nem</td><td>12</td><td>15</td><td>3</td><td>2</td><td>i</td></tr>",
                            "<tr><td>Gold Hotel</td><td>Nem</td><td>12</td><td>16</td><td>2</td><td>2</td><td>i</td></tr>",
                            "<tr><td>Gold Hotel</td><td>Nem</td><td>12</td><td>17</td><td>3</td><td>0</td><td>i</td></tr>",
                            "<tr><td>Gold Hotel</td><td>Nem</td><td>12</td><td>18</td><td>2</td><td>0</td><td>n</td></tr>",
                            "<tr><td>Gold Hotel</td><td>Nem</td><td>12</td><td>19</td><td>3</td><td>0</td><td>i</td></tr>",
                            "<tr><td>Gold Hotel</td><td>Nem</td><td>12</td><td>20</td><td>2</td><td>0</td><td>n</td></tr>",
                            "<tr><td>Gold Hotel</td><td>Nem</td><td>12</td><td>21</td><td>3</td><td>0</td><td>i</td></tr>",
                            "<tr><td>Gold Hotel</td><td>Nem</td><td>12</td><td>22</td><td>2</td><td>2</td><td>i</td></tr>",
                            "<tr><td>Gold Hotel</td><td>Nem</td><td>12</td><td>23</td><td>3</td><td>1</td><td>i</td></tr>",
                            "<tr><td>Gold Hotel</td><td>Nem</td><td>12</td><td>24</td><td>3</td><td>0</td><td>i</td></tr>",
                            "<tr><td>Gold Hotel</td><td>Nem</td><td>12</td><td>25</td><td>2</td><td>2</td><td>i</td></tr>",
                            "<tr><td>Gold Hotel</td><td>Nem</td><td>12</td><td>26</td><td>2</td><td>0</td><td>i</td></tr>",
                            "<tr><td>Gold Hotel</td><td>Nem</td><td>12</td><td>27</td><td>2</td><td>1</td><td>i</td></tr>",
                            "<tr><td>Gold Hotel</td><td>Nem</td><td>12</td><td>28</td><td>2</td><td>1</td><td>i</td></tr>",
                            "<tr><td>Gold Hotel</td><td>Nem</td><td>12</td><td>29</td><td>3</td><td>2</td><td>n</td></tr>",
                            "<tr><td>Gold Hotel</td><td>Nem</td><td>12</td><td>30</td><td>2</td><td>1</td><td>i</td></tr>",
                            "<tr><td>Gold Hotel</td><td>Nem</td><td>12</td><td>31</td><td>2</td><td>0</td><td>i</td></tr>",
                            "<tr><td>Gold Hotel</td><td>Nem</td><td>12</td><td>32</td><td>2</td><td>1</td><td>i</td></tr>",
                            "<tr><td>Gold Hotel</td><td>Nem</td><td>12</td><td>33</td><td>3</td><td>0</td><td>i</td></tr>",
                            "<tr><td>Gold Hotel</td><td>Nem</td><td>12</td><td>34</td><td>3</td><td>0</td><td>i</td></tr>",
                            "<tr><td>Gold Hotel</td><td>Nem</td><td>12</td><td>35</td><td>3</td><td>2</td><td>i</td></tr>",
                            "<tr><td>Gold Hotel</td><td>Nem</td><td>12</td><td>36</td><td>2</td><td>0</td><td>i</td></tr>",
                            "<tr><td>Gold Hotel</td><td>Nem</td><td>12</td><td>37</td><td>3</td><td>1</td><td>n</td></tr>",
                            "<tr><td>Gold Hotel</td><td>Nem</td><td>12</td><td>38</td><td>3</td><td>1</td><td>i</td></tr>",
                            "<tr><td>Gold Hotel</td><td>Nem</td><td>12</td><td>39</td><td>3</td><td>0</td><td>i</td></tr>",
                            "<tr><td>Gold Hotel</td><td>Nem</td><td>12</td><td>40</td><td>3</td><td>1</td><td>i</td></tr>",
                            "<tr><td>Gold Hotel</td><td>Nem</td><td>12</td><td>41</td><td>3</td><td>0</td><td>i</td></tr>",
                            "<tr><td>Gold Hotel</td><td>Nem</td><td>12</td><td>42</td><td>2</td><td>1</td><td>i</td></tr>",
                            "<tr><td>Gold Hotel</td><td>Nem</td><td>12</td><td>43</td><td>2</td><td>1</td><td>i</td></tr>",
                            "<tr><td>Gold Hotel</td><td>Nem</td><td>12</td><td>44</td><td>2</td><td>1</td><td>i</td></tr>",
                            "<tr><td>Gold Hotel</td><td>Nem</td><td>12</td><td>45</td><td>3</td><td>2</td><td>n</td></tr>",
                            "<tr><td>Gold Hotel</td><td>Nem</td><td>12</td><td>46</td><td>2</td><td>0</td><td>i</td></tr>",
                            "<tr><td>Gold Hotel</td><td>Nem</td><td>12</td><td>47</td><td>2</td><td>1</td><td>i</td></tr>",
                            "<tr><td>Gold Hotel</td><td>Nem</td><td>12</td><td>48</td><td>3</td><td>0</td><td>n</td></tr>",
                            "<tr><td>Gold Hotel</td><td>Nem</td><td>12</td><td>49</td><td>3</td><td>0</td><td>i</td></tr>",
                            "<tr><td>Gold Hotel</td><td>Nem</td><td>12</td><td>50</td><td>3</td><td>1</td><td>i</td></tr>",
                            "<tr><td>Riviéra Panzió</td><td>Igen</td><td>13</td><td>1</td><td>2</td><td>1</td><td>i</td></tr>",
                            "<tr><td>Riviéra Panzió</td><td>Igen</td><td>13</td><td>2</td><td>3</td><td>1</td><td>i</td></tr>",
                            "<tr><td>Riviéra Panzió</td><td>Igen</td><td>13</td><td>3</td><td>2</td><td>1</td><td>n</td></tr>",
                            "<tr><td>Riviéra Panzió</td><td>Igen</td><td>13</td><td>4</td><td>3</td><td>0</td><td>i</td></tr>",
                            "<tr><td>Riviéra Panzió</td><td>Igen</td><td>13</td><td>5</td><td>2</td><td>0</td><td>n</td></tr>",
                            "<tr><td>Riviéra Panzió</td><td>Igen</td><td>13</td><td>6</td><td>3</td><td>0</td><td>i</td></tr>",
                            "<tr><td>Riviéra Panzió</td><td>Igen</td><td>13</td><td>7</td><td>3</td><td>0</td><td>i</td></tr>",
                            "<tr><td>Riviéra Panzió</td><td>Igen</td><td>13</td><td>8</td><td>2</td><td>0</td><td>n</td></tr>",
                            "<tr><td>Riviéra Panzió</td><td>Igen</td><td>13</td><td>9</td><td>2</td><td>1</td><td>i</td></tr>",
                            "<tr><td>Riviéra Panzió</td><td>Igen</td><td>13</td><td>10</td><td>2</td><td>0</td><td>i</td></tr>",
                            "<tr><td>Riviéra Panzió</td><td>Igen</td><td>13</td><td>11</td><td>2</td><td>1</td><td>i</td></tr>",
                            "<tr><td>Riviéra Panzió</td><td>Igen</td><td>13</td><td>12</td><td>3</td><td>1</td><td>n</td></tr>",
                            "<tr><td>Nyárfás Vendégház</td><td>Nem</td><td>14</td><td>1</td><td>2</td><td>1</td><td>i</td></tr>",
                            "<tr><td>Nyárfás Vendégház</td><td>Nem</td><td>14</td><td>2</td><td>3</td><td>0</td><td>i</td></tr>",
                            "<tr><td>Nyárfás Vendégház</td><td>Nem</td><td>14</td><td>3</td><td>2</td><td>0</td><td>i</td></tr>",
                            "<tr><td>Nyárfás Vendégház</td><td>Nem</td><td>14</td><td>4</td><td>3</td><td>2</td><td>i</td></tr>",
                            "<tr><td>Tímárház Panzió</td><td>Igen</td><td>15</td><td>1</td><td>2</td><td>0</td><td>i</td></tr>",
                            "<tr><td>Tímárház Panzió</td><td>Igen</td><td>15</td><td>2</td><td>2</td><td>0</td><td>i</td></tr>",
                            "<tr><td>Tímárház Panzió</td><td>Igen</td><td>15</td><td>3</td><td>3</td><td>0</td><td>n</td></tr>",
                            "<tr><td>Tímárház Panzió</td><td>Igen</td><td>15</td><td>4</td><td>3</td><td>1</td><td>i</td></tr>",
                            "<tr><td>Tímárház Panzió</td><td>Igen</td><td>15</td><td>5</td><td>3</td><td>0</td><td>i</td></tr>",
                            "<tr><td>Tímárház Panzió</td><td>Igen</td><td>15</td><td>6</td><td>3</td><td>1</td><td>n</td></tr>",
                            "<tr><td>Tímárház Panzió</td><td>Igen</td><td>15</td><td>7</td><td>2</td><td>2</td><td>n</td></tr>",
                            "<tr><td>Tímárház Panzió</td><td>Igen</td><td>15</td><td>8</td><td>3</td><td>1</td><td>i</td></tr>",
                            "<tr><td>Tímárház Panzió</td><td>Igen</td><td>15</td><td>9</td><td>2</td><td>2</td><td>i</td></tr>",
                            "<tr><td>Tímárház Panzió</td><td>Igen</td><td>15</td><td>10</td><td>3</td><td>0</td><td>i</td></tr>",
                            "<tr><td>Tímárház Panzió</td><td>Igen</td><td>15</td><td>11</td><td>2</td><td>0</td><td>i</td></tr>",
                            "<tr><td>Tímárház Panzió</td><td>Igen</td><td>15</td><td>12</td><td>2</td><td>1</td><td>i</td></tr>",
                            "<tr><td>Bagoly Hotel</td><td>Nem</td><td>16</td><td>1</td><td>2</td><td>0</td><td>i</td></tr>",
                            "<tr><td>Bagoly Hotel</td><td>Nem</td><td>16</td><td>2</td><td>2</td><td>1</td><td>i</td></tr>",
                            "<tr><td>Bagoly Hotel</td><td>Nem</td><td>16</td><td>3</td><td>2</td><td>1</td><td>i</td></tr>",
                            "<tr><td>Bagoly Hotel</td><td>Nem</td><td>16</td><td>4</td><td>2</td><td>0</td><td>i</td></tr>",
                            "<tr><td>Bagoly Hotel</td><td>Nem</td><td>16</td><td>5</td><td>2</td><td>0</td><td>i</td></tr>",
                            "<tr><td>Bagoly Hotel</td><td>Nem</td><td>16</td><td>6</td><td>2</td><td>2</td><td>i</td></tr>",
                            "<tr><td>Bagoly Hotel</td><td>Nem</td><td>16</td><td>7</td><td>2</td><td>1</td><td>n</td></tr>",
                            "<tr><td>Bagoly Hotel</td><td>Nem</td><td>16</td><td>8</td><td>3</td><td>1</td><td>n</td></tr>",
                            "<tr><td>Bagoly Hotel</td><td>Nem</td><td>16</td><td>9</td><td>3</td><td>0</td><td>n</td></tr>",
                            "<tr><td>Bagoly Hotel</td><td>Nem</td><td>16</td><td>10</td><td>3</td><td>1</td><td>i</td></tr>",
                            "<tr><td>Bagoly Hotel</td><td>Nem</td><td>16</td><td>11</td><td>2</td><td>0</td><td>i</td></tr>",
                            "<tr><td>Bagoly Hotel</td><td>Nem</td><td>16</td><td>12</td><td>2</td><td>0</td><td>i</td></tr>",
                            "<tr><td>Bagoly Hotel</td><td>Nem</td><td>16</td><td>13</td><td>3</td><td>0</td><td>n</td></tr>",
                            "<tr><td>Bagoly Hotel</td><td>Nem</td><td>16</td><td>14</td><td>3</td><td>1</td><td>i</td></tr>",
                            "<tr><td>Bagoly Hotel</td><td>Nem</td><td>16</td><td>15</td><td>2</td><td>0</td><td>i</td></tr>",
                            "<tr><td>Bagoly Hotel</td><td>Nem</td><td>16</td><td>16</td><td>2</td><td>0</td><td>i</td></tr>",
                            "<tr><td>Bagoly Hotel</td><td>Nem</td><td>16</td><td>17</td><td>2</td><td>0</td><td>i</td></tr>",
                            "<tr><td>Bagoly Hotel</td><td>Nem</td><td>16</td><td>18</td><td>2</td><td>0</td><td>i</td></tr>",
                            "<tr><td>Bagoly Hotel</td><td>Nem</td><td>16</td><td>19</td><td>1</td><td>1</td><td>n</td></tr>",
                            "<tr><td>Bagoly Hotel</td><td>Nem</td><td>16</td><td>20</td><td>1</td><td>0</td><td>n</td></tr>",
                            "<tr><td>Szarvas Hotel</td><td>Nem</td><td>17</td><td>1</td><td>2</td><td>2</td><td>i</td></tr>",
                            "<tr><td>Szarvas Hotel</td><td>Nem</td><td>17</td><td>2</td><td>3</td><td>0</td><td>i</td></tr>",
                            "<tr><td>Szarvas Hotel</td><td>Nem</td><td>17</td><td>3</td><td>3</td><td>0</td><td>i</td></tr>",
                            "<tr><td>Szarvas Hotel</td><td>Nem</td><td>17</td><td>4</td><td>2</td><td>1</td><td>i</td></tr>",
                            "<tr><td>Szarvas Hotel</td><td>Nem</td><td>17</td><td>5</td><td>2</td><td>1</td><td>n</td></tr>",
                            "<tr><td>Szarvas Hotel</td><td>Nem</td><td>17</td><td>6</td><td>2</td><td>2</td><td>n</td></tr>",
                            "<tr><td>Szarvas Hotel</td><td>Nem</td><td>17</td><td>7</td><td>2</td><td>1</td><td>i</td></tr>",
                            "<tr><td>Szarvas Hotel</td><td>Nem</td><td>17</td><td>8</td><td>3</td><td>0</td><td>n</td></tr>",
                            "<tr><td>Szarvas Hotel</td><td>Nem</td><td>17</td><td>9</td><td>3</td><td>0</td><td>i</td></tr>",
                            "<tr><td>Szarvas Hotel</td><td>Nem</td><td>17</td><td>10</td><td>3</td><td>0</td><td>i</td></tr>",
                            "<tr><td>Szarvas Hotel</td><td>Nem</td><td>17</td><td>11</td><td>2</td><td>1</td><td>i</td></tr>",
                            "<tr><td>Szarvas Hotel</td><td>Nem</td><td>17</td><td>12</td><td>3</td><td>1</td><td>i</td></tr>",
                            "<tr><td>Szarvas Hotel</td><td>Nem</td><td>17</td><td>13</td><td>2</td><td>1</td><td>n</td></tr>",
                            "<tr><td>Szarvas Hotel</td><td>Nem</td><td>17</td><td>14</td><td>2</td><td>0</td><td>i</td></tr>",
                            "<tr><td>Szarvas Hotel</td><td>Nem</td><td>17</td><td>15</td><td>2</td><td>0</td><td>i</td></tr>",
                            "<tr><td>Fortuna Apartman</td><td>Nem</td><td>18</td><td>1</td><td>3</td><td>1</td><td>i</td></tr>",
                            "<tr><td>Fortuna Apartman</td><td>Nem</td><td>18</td><td>2</td><td>2</td><td>1</td><td>i</td></tr>",
                            "<tr><td>Fortuna Apartman</td><td>Nem</td><td>18</td><td>3</td><td>3</td><td>0</td><td>n</td></tr>",
                            "<tr><td>Nyárfás Vendégház</td><td>Nem</td><td>19</td><td>1</td><td>2</td><td>0</td><td>n</td></tr>",
                            "<tr><td>Nyárfás Vendégház</td><td>Nem</td><td>19</td><td>2</td><td>2</td><td>0</td><td>i</td></tr>",
                            "<tr><td>Nyárfás Vendégház</td><td>Nem</td><td>19</td><td>3</td><td>2</td><td>0</td><td>n</td></tr>",
                            "<tr><td>Nyárfás Vendégház</td><td>Nem</td><td>19</td><td>4</td><td>2</td><td>2</td><td>i</td></tr>",
                            "<tr><td>Kollégium</td><td>Nem</td><td>20</td><td>1</td><td>2</td><td>1</td><td>i</td></tr>",
                            "<tr><td>Kollégium</td><td>Nem</td><td>20</td><td>2</td><td>3</td><td>0</td><td>i</td></tr>",
                            "<tr><td>Kollégium</td><td>Nem</td><td>20</td><td>3</td><td>3</td><td>0</td><td>n</td></tr>",
                            "<tr><td>Kollégium</td><td>Nem</td><td>20</td><td>4</td><td>2</td><td>1</td><td>i</td></tr>",
                            "<tr><td>Kollégium</td><td>Nem</td><td>20</td><td>5</td><td>3</td><td>0</td><td>i</td></tr>",
                            "<tr><td>Kollégium</td><td>Nem</td><td>20</td><td>6</td><td>2</td><td>1</td><td>i</td></tr>",
                            "<tr><td>Kollégium</td><td>Nem</td><td>20</td><td>7</td><td>2</td><td>1</td><td>i</td></tr>",
                            "<tr><td>Kollégium</td><td>Nem</td><td>20</td><td>8</td><td>2</td><td>1</td><td>i</td></tr>",
                            "<tr><td>Kollégium</td><td>Nem</td><td>20</td><td>9</td><td>2</td><td>1</td><td>i</td></tr>",
                            "<tr><td>Kollégium</td><td>Nem</td><td>20</td><td>10</td><td>3</td><td>0</td><td>i</td></tr>",
                            "</table>"
                        ]
                    }
                }
            ],
            "execution_count": 17
        }
    ]
}