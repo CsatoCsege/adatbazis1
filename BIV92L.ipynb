{
    "metadata": {
        "kernelspec": {
            "name": "SQL",
            "display_name": "SQL",
            "language": "sql"
        },
        "language_info": {
            "name": "sql",
            "version": ""
        }
    },
    "nbformat_minor": 2,
    "nbformat": 4,
    "cells": [
        {
            "cell_type": "code",
            "source": [
                "--- 1\r\n",
                "SELECT *\r\n",
                "FROM Szallashely"
            ],
            "metadata": {
                "azdata_cell_guid": "d0be114a-23c5-48ac-ae6e-8a68a4cf1863",
                "language": "sql"
            },
            "outputs": [],
            "execution_count": null
        },
        {
            "cell_type": "code",
            "source": [
                "--- 2\r\n",
                ""
            ],
            "metadata": {
                "language": "sql",
                "azdata_cell_guid": "124a314b-eb60-4903-bd9c-3e7af08209e7"
            },
            "outputs": [],
            "execution_count": null
        }
    ]
}